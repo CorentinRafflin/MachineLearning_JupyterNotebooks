{
  "nbformat": 4,
  "nbformat_minor": 0,
  "metadata": {
    "kernelspec": {
      "display_name": "Python 3",
      "language": "python",
      "name": "python3"
    },
    "language_info": {
      "codemirror_mode": {
        "name": "ipython",
        "version": 3
      },
      "file_extension": ".py",
      "mimetype": "text/x-python",
      "name": "python",
      "nbconvert_exporter": "python",
      "pygments_lexer": "ipython3",
      "version": "3.5.2"
    },
    "colab": {
      "name": "PlanktonImageClassification.ipynb",
      "provenance": []
    }
  },
  "cells": [
    {
      "cell_type": "markdown",
      "metadata": {
        "id": "AKcWkpomkCQU"
      },
      "source": [
        "<h3>Algorithmic Machine Learning Challenge</h3>\n",
        "<h1>Plankton Image Classification</h1>\n",
        "<hr style=\"height:2px;border:none;color:#333;background-color:#333;\"/>"
      ]
    },
    {
      "cell_type": "markdown",
      "metadata": {
        "id": "gywLG0R2kCQW"
      },
      "source": [
        "<div class=\"alert alert-warning\">Corentin RAFFLIN </div>"
      ]
    },
    {
      "cell_type": "markdown",
      "metadata": {
        "id": "1XwlTVRvkCQW"
      },
      "source": [
        "# Overview"
      ]
    },
    {
      "cell_type": "markdown",
      "metadata": {
        "id": "ksfdnu7DkCQX"
      },
      "source": [
        "For this problem of Image Classification, we will use “Deep Learning” methods. The model will be a (convolutional) neural network in which features are learned from image data alone. \n",
        "* An advantage of this approach is to let the neural network choose the features. Furthermore this approach is good when we have an important quantity of samples and is especially efficient for image recognition.\n",
        "* A disadvantage is that the computational cost can be high depending on the number of sample as well as the size of the images. Furthermore, neural networks do not deal well with imbalanced data set.\n",
        "\n",
        "It would have been possible to deal with this problem using the pre-computed features extracted from the images or by extracting our own features from the images and train a classifier (SVC, Decision Trees...) with these features."
      ]
    },
    {
      "cell_type": "code",
      "metadata": {
        "id": "amw_BV8EkCQX"
      },
      "source": [
        "# Install the library we can use for under and over-sampling, as well as a library for a CNN\n",
        "!pip3 install --user 'imblearn'\n",
        "!pip3 install --user 'keras'"
      ],
      "execution_count": null,
      "outputs": []
    },
    {
      "cell_type": "code",
      "metadata": {
        "id": "ixy9InBLkCQa",
        "outputId": "9fa62be3-3592-41d0-e101-7ce841c03822"
      },
      "source": [
        "#Diverses libraries\n",
        "%matplotlib inline\n",
        "import os\n",
        "import sys\n",
        "import re\n",
        "import random\n",
        "from time import time\n",
        "\n",
        "# Data and plotting imports\n",
        "import matplotlib.pyplot as plt\n",
        "import pandas as pd\n",
        "import numpy as np\n",
        "import seaborn as sns\n",
        "from scipy import stats\n",
        "\n",
        "#Image and files libraries\n",
        "import zipfile\n",
        "from io import BytesIO\n",
        "from PIL import Image, ImageOps, ImageFilter\n",
        "\n",
        "#Neural network libraries\n",
        "from sklearn import preprocessing, model_selection, metrics\n",
        "from sklearn.neural_network import MLPClassifier\n",
        "\n",
        "#Over and under-sampling libraries\n",
        "from imblearn.over_sampling import SMOTE\n",
        "from imblearn.under_sampling import ClusterCentroids\n",
        "\n",
        "#Import keras\n",
        "from keras.utils.np_utils import to_categorical # convert to one-hot-encoding\n",
        "from keras.models import Sequential\n",
        "from keras.layers import Dense, Dropout, Flatten, Conv2D, MaxPool2D, BatchNormalization\n",
        "from keras.optimizers import RMSprop\n",
        "from keras.preprocessing.image import ImageDataGenerator\n",
        "from keras.callbacks import ReduceLROnPlateau"
      ],
      "execution_count": null,
      "outputs": [
        {
          "output_type": "stream",
          "text": [
            "Using TensorFlow backend.\n"
          ],
          "name": "stderr"
        }
      ]
    },
    {
      "cell_type": "markdown",
      "metadata": {
        "id": "sOKMEUzxkCQd"
      },
      "source": [
        "<div class=\"\">\n",
        "    <h3>1. Data Exploration </h3>\n",
        "</div>"
      ]
    },
    {
      "cell_type": "markdown",
      "metadata": {
        "id": "LP6wgyQXkCQd"
      },
      "source": [
        "<h4> Importing the data </h4>"
      ]
    },
    {
      "cell_type": "code",
      "metadata": {
        "id": "lvGl4hyhkCQe"
      },
      "source": [
        "def extract_zip_to_memory(input_zip):\n",
        "    '''\n",
        "    This function extracts the images stored inside the given zip file.\n",
        "    It stores the result in a python dictionary.\n",
        "    \n",
        "    input_zip (string): path to the zip file\n",
        "    \n",
        "    returns (dict): {filename (string): image_file (bytes)}\n",
        "    '''\n",
        "    input_zip=zipfile.ZipFile(input_zip)\n",
        "    return {name: BytesIO(input_zip.read(name)) for name in input_zip.namelist() if name.endswith('.jpg')}\n",
        "\n",
        "def printMissing(dataframe):\n",
        "    ''' Printing the missing data in the dataframe with the total of missing and the corresponding percentage '''\n",
        "    total = dataframe.isnull().sum().sort_values(ascending=False)\n",
        "    percent = (dataframe.isnull().sum()/dataframe.isnull().count()).sort_values(ascending=False)\n",
        "    missing_data = pd.concat([total, percent], axis=1, keys=['Total', 'Percent'])\n",
        "    display(missing_data[missing_data['Total']>0])"
      ],
      "execution_count": null,
      "outputs": []
    },
    {
      "cell_type": "code",
      "metadata": {
        "id": "9NET7Pk6kCQg"
      },
      "source": [
        "#Importing the meta-data to get the labels \n",
        "meta = pd.read_csv('/mnt/datasets/plankton/flowcam/meta.csv', sep=',', header=0)\n",
        "#taxo = pd.read_csv('/mnt/datasets/plankton/flowcam/taxo.csv', sep=',', header=0)\n",
        "#features_native=pd.read_csv('/mnt/datasets/plankton/flowcam/features_native.csv.gz', sep=',', header=0)\n",
        "#features_skimages=pd.read_csv('/mnt/datasets/plankton/flowcam/features_skimage.csv.gz', sep=',', header=0)"
      ],
      "execution_count": null,
      "outputs": []
    },
    {
      "cell_type": "code",
      "metadata": {
        "id": "UNouvcuBkCQi",
        "outputId": "ab72ca61-84c5-4133-848e-ceb577e1a761"
      },
      "source": [
        "#Extracting the images\n",
        "img_files = extract_zip_to_memory(\"/mnt/datasets/plankton/flowcam/imgs.zip\")\n",
        "print(\"Number of images :\", len(img_files))"
      ],
      "execution_count": null,
      "outputs": [
        {
          "output_type": "stream",
          "text": [
            "Number of images : 243610\n"
          ],
          "name": "stdout"
        }
      ]
    },
    {
      "cell_type": "markdown",
      "metadata": {
        "id": "jxSfiWyWkCQn"
      },
      "source": [
        "<h4> Exploring the taxonomy (level 2) </h4>"
      ]
    },
    {
      "cell_type": "code",
      "metadata": {
        "id": "jIUShfT9kCQo"
      },
      "source": [
        "#we only care about the id (to do the mapping with the image) and the output \"level2\"\n",
        "labelL2 = meta.copy()\n",
        "labelL2.drop(labelL2.columns.difference(['objid','level2']), 1, inplace=True)"
      ],
      "execution_count": null,
      "outputs": []
    },
    {
      "cell_type": "code",
      "metadata": {
        "id": "HVbbHBFfkCQr",
        "outputId": "aedd5fc4-c004-40e5-cba5-6848c771abee"
      },
      "source": [
        "#Print all level2 possible values\n",
        "print(labelL2.level2.sort_values().unique())\n",
        "print(\"Number of categories level 2 (including missing) : \", len(labelL2.level2.sort_values().unique()))"
      ],
      "execution_count": null,
      "outputs": [
        {
          "output_type": "stream",
          "text": [
            "['Annelida' 'Asterionellopsis' 'Bacteriastrum' 'Ceratocorys horrida'\n",
            " 'Chaetoceros' 'Codonaria' 'Codonellopsis (Dictyocystidae)' 'Copepoda'\n",
            " 'Coscinodiscids' 'Cyttarocylis' 'Dictyocysta' 'Dinophysiales' 'Hemiaulus'\n",
            " 'Lithodesmioides' 'Neoceratium' 'Odontella (Mediophyceae)' 'Pleurosigma'\n",
            " 'Protoperidinium' 'Retaria' 'Rhabdonella' 'Rhizosolenids' 'Stenosemella'\n",
            " 'Thalassionema' 'Tintinnidiidae' 'Undellidae' 'Xystonellidae' 'artefact'\n",
            " 'badfocus (artefact)' 'centric' 'chainlarge' 'detritus' 'egg (other)'\n",
            " 'feces' 'multiple (other)' 'nauplii (Crustacea)' 'pollen' 'rods' 'silks'\n",
            " 'tempChaetoceros danicus' nan]\n",
            "Number of categories level 2 (including missing) :  40\n"
          ],
          "name": "stdout"
        }
      ]
    },
    {
      "cell_type": "markdown",
      "metadata": {
        "id": "rnj2_G0ekCQu"
      },
      "source": [
        "We notice missing values \"nan\" as well as some values that we may want to remove : \"artefact\", \"badfocus (artefact)\" as well as \"multiple (other)\", \"egg (other)\". We will remove the first two values later on, but the last two can still represent things we want to identify so we will keep them. This step depends on what we want from our classifier."
      ]
    },
    {
      "cell_type": "code",
      "metadata": {
        "id": "pDIxWX_GkCQv",
        "outputId": "a88ad212-a2ca-4648-c0d2-1d55c2fe43a8"
      },
      "source": [
        "#plotting the distribution of level 2 values \n",
        "fig, ax1 = plt.subplots(1, 1, figsize= (18,18))\n",
        "meta['level2'].value_counts().plot(kind='bar', ax=ax1)"
      ],
      "execution_count": null,
      "outputs": [
        {
          "output_type": "execute_result",
          "data": {
            "text/plain": [
              "<matplotlib.axes._subplots.AxesSubplot at 0x7fe94f9a3cf8>"
            ]
          },
          "metadata": {
            "tags": []
          },
          "execution_count": 7
        },
        {
          "output_type": "display_data",
          "data": {
            "image/png": "[encoded data removed]",
            "text/plain": [
              "<Figure size 1296x1296 with 1 Axes>"
            ]
          },
          "metadata": {
            "tags": []
          }
        }
      ]
    },
    {
      "cell_type": "markdown",
      "metadata": {
        "id": "FhjL439ukCQx"
      },
      "source": [
        "We notice an important majority of \"detritus\", followed by \"feces\". At the opposite, a lot of samples are rare like \"Xystonellidae\" and \"Bacteriastrum\" to give a few, it may be useful to do some data augmentation for these images to improve the accuracy of the classifier."
      ]
    },
    {
      "cell_type": "code",
      "metadata": {
        "id": "Yv0T_NKSkCQy",
        "outputId": "2c808bee-4e1f-4554-94e0-beec1bd15502"
      },
      "source": [
        "countDF = pd.DataFrame()\n",
        "countDF['Count'] = labelL2['level2'].value_counts()\n",
        "countDF['Percentage'] = labelL2['level2'].value_counts(normalize=True) * 100\n",
        "display(countDF)"
      ],
      "execution_count": null,
      "outputs": [
        {
          "output_type": "display_data",
          "data": {
            "text/html": [
              "<div>\n",
              "<style scoped>\n",
              "    .dataframe tbody tr th:only-of-type {\n",
              "        vertical-align: middle;\n",
              "    }\n",
              "\n",
              "    .dataframe tbody tr th {\n",
              "        vertical-align: top;\n",
              "    }\n",
              "\n",
              "    .dataframe thead th {\n",
              "        text-align: right;\n",
              "    }\n",
              "</style>\n",
              "<table border=\"1\" class=\"dataframe\">\n",
              "  <thead>\n",
              "    <tr style=\"text-align: right;\">\n",
              "      <th></th>\n",
              "      <th>Count</th>\n",
              "      <th>Percentage</th>\n",
              "    </tr>\n",
              "  </thead>\n",
              "  <tbody>\n",
              "    <tr>\n",
              "      <th>detritus</th>\n",
              "      <td>138439</td>\n",
              "      <td>57.063069</td>\n",
              "    </tr>\n",
              "    <tr>\n",
              "      <th>feces</th>\n",
              "      <td>26936</td>\n",
              "      <td>11.102730</td>\n",
              "    </tr>\n",
              "    <tr>\n",
              "      <th>Neoceratium</th>\n",
              "      <td>14014</td>\n",
              "      <td>5.776420</td>\n",
              "    </tr>\n",
              "    <tr>\n",
              "      <th>nauplii (Crustacea)</th>\n",
              "      <td>9293</td>\n",
              "      <td>3.830475</td>\n",
              "    </tr>\n",
              "    <tr>\n",
              "      <th>badfocus (artefact)</th>\n",
              "      <td>7848</td>\n",
              "      <td>3.234861</td>\n",
              "    </tr>\n",
              "    <tr>\n",
              "      <th>silks</th>\n",
              "      <td>5629</td>\n",
              "      <td>2.320213</td>\n",
              "    </tr>\n",
              "    <tr>\n",
              "      <th>Copepoda</th>\n",
              "      <td>5141</td>\n",
              "      <td>2.119065</td>\n",
              "    </tr>\n",
              "    <tr>\n",
              "      <th>Thalassionema</th>\n",
              "      <td>5117</td>\n",
              "      <td>2.109172</td>\n",
              "    </tr>\n",
              "    <tr>\n",
              "      <th>rods</th>\n",
              "      <td>4044</td>\n",
              "      <td>1.666893</td>\n",
              "    </tr>\n",
              "    <tr>\n",
              "      <th>multiple (other)</th>\n",
              "      <td>3261</td>\n",
              "      <td>1.344149</td>\n",
              "    </tr>\n",
              "    <tr>\n",
              "      <th>Codonellopsis (Dictyocystidae)</th>\n",
              "      <td>2888</td>\n",
              "      <td>1.190403</td>\n",
              "    </tr>\n",
              "    <tr>\n",
              "      <th>Protoperidinium</th>\n",
              "      <td>2256</td>\n",
              "      <td>0.929899</td>\n",
              "    </tr>\n",
              "    <tr>\n",
              "      <th>Tintinnidiidae</th>\n",
              "      <td>2227</td>\n",
              "      <td>0.917945</td>\n",
              "    </tr>\n",
              "    <tr>\n",
              "      <th>Rhizosolenids</th>\n",
              "      <td>2160</td>\n",
              "      <td>0.890329</td>\n",
              "    </tr>\n",
              "    <tr>\n",
              "      <th>Chaetoceros</th>\n",
              "      <td>2105</td>\n",
              "      <td>0.867658</td>\n",
              "    </tr>\n",
              "    <tr>\n",
              "      <th>artefact</th>\n",
              "      <td>1849</td>\n",
              "      <td>0.762138</td>\n",
              "    </tr>\n",
              "    <tr>\n",
              "      <th>pollen</th>\n",
              "      <td>1821</td>\n",
              "      <td>0.750597</td>\n",
              "    </tr>\n",
              "    <tr>\n",
              "      <th>Codonaria</th>\n",
              "      <td>845</td>\n",
              "      <td>0.348300</td>\n",
              "    </tr>\n",
              "    <tr>\n",
              "      <th>chainlarge</th>\n",
              "      <td>751</td>\n",
              "      <td>0.309554</td>\n",
              "    </tr>\n",
              "    <tr>\n",
              "      <th>Undellidae</th>\n",
              "      <td>710</td>\n",
              "      <td>0.292654</td>\n",
              "    </tr>\n",
              "    <tr>\n",
              "      <th>egg (other)</th>\n",
              "      <td>685</td>\n",
              "      <td>0.282350</td>\n",
              "    </tr>\n",
              "    <tr>\n",
              "      <th>Hemiaulus</th>\n",
              "      <td>670</td>\n",
              "      <td>0.276167</td>\n",
              "    </tr>\n",
              "    <tr>\n",
              "      <th>Dictyocysta</th>\n",
              "      <td>549</td>\n",
              "      <td>0.226292</td>\n",
              "    </tr>\n",
              "    <tr>\n",
              "      <th>Dinophysiales</th>\n",
              "      <td>525</td>\n",
              "      <td>0.216399</td>\n",
              "    </tr>\n",
              "    <tr>\n",
              "      <th>Annelida</th>\n",
              "      <td>481</td>\n",
              "      <td>0.198263</td>\n",
              "    </tr>\n",
              "    <tr>\n",
              "      <th>Rhabdonella</th>\n",
              "      <td>367</td>\n",
              "      <td>0.151273</td>\n",
              "    </tr>\n",
              "    <tr>\n",
              "      <th>Stenosemella</th>\n",
              "      <td>357</td>\n",
              "      <td>0.147152</td>\n",
              "    </tr>\n",
              "    <tr>\n",
              "      <th>Coscinodiscids</th>\n",
              "      <td>334</td>\n",
              "      <td>0.137671</td>\n",
              "    </tr>\n",
              "    <tr>\n",
              "      <th>Retaria</th>\n",
              "      <td>257</td>\n",
              "      <td>0.105933</td>\n",
              "    </tr>\n",
              "    <tr>\n",
              "      <th>Pleurosigma</th>\n",
              "      <td>191</td>\n",
              "      <td>0.078728</td>\n",
              "    </tr>\n",
              "    <tr>\n",
              "      <th>Ceratocorys horrida</th>\n",
              "      <td>186</td>\n",
              "      <td>0.076667</td>\n",
              "    </tr>\n",
              "    <tr>\n",
              "      <th>centric</th>\n",
              "      <td>145</td>\n",
              "      <td>0.059767</td>\n",
              "    </tr>\n",
              "    <tr>\n",
              "      <th>Odontella (Mediophyceae)</th>\n",
              "      <td>131</td>\n",
              "      <td>0.053997</td>\n",
              "    </tr>\n",
              "    <tr>\n",
              "      <th>Asterionellopsis</th>\n",
              "      <td>117</td>\n",
              "      <td>0.048226</td>\n",
              "    </tr>\n",
              "    <tr>\n",
              "      <th>Cyttarocylis</th>\n",
              "      <td>100</td>\n",
              "      <td>0.041219</td>\n",
              "    </tr>\n",
              "    <tr>\n",
              "      <th>Lithodesmioides</th>\n",
              "      <td>68</td>\n",
              "      <td>0.028029</td>\n",
              "    </tr>\n",
              "    <tr>\n",
              "      <th>tempChaetoceros danicus</th>\n",
              "      <td>61</td>\n",
              "      <td>0.025144</td>\n",
              "    </tr>\n",
              "    <tr>\n",
              "      <th>Xystonellidae</th>\n",
              "      <td>37</td>\n",
              "      <td>0.015251</td>\n",
              "    </tr>\n",
              "    <tr>\n",
              "      <th>Bacteriastrum</th>\n",
              "      <td>12</td>\n",
              "      <td>0.004946</td>\n",
              "    </tr>\n",
              "  </tbody>\n",
              "</table>\n",
              "</div>"
            ],
            "text/plain": [
              "                                 Count  Percentage\n",
              "detritus                        138439   57.063069\n",
              "feces                            26936   11.102730\n",
              "Neoceratium                      14014    5.776420\n",
              "nauplii (Crustacea)               9293    3.830475\n",
              "badfocus (artefact)               7848    3.234861\n",
              "silks                             5629    2.320213\n",
              "Copepoda                          5141    2.119065\n",
              "Thalassionema                     5117    2.109172\n",
              "rods                              4044    1.666893\n",
              "multiple (other)                  3261    1.344149\n",
              "Codonellopsis (Dictyocystidae)    2888    1.190403\n",
              "Protoperidinium                   2256    0.929899\n",
              "Tintinnidiidae                    2227    0.917945\n",
              "Rhizosolenids                     2160    0.890329\n",
              "Chaetoceros                       2105    0.867658\n",
              "artefact                          1849    0.762138\n",
              "pollen                            1821    0.750597\n",
              "Codonaria                          845    0.348300\n",
              "chainlarge                         751    0.309554\n",
              "Undellidae                         710    0.292654\n",
              "egg (other)                        685    0.282350\n",
              "Hemiaulus                          670    0.276167\n",
              "Dictyocysta                        549    0.226292\n",
              "Dinophysiales                      525    0.216399\n",
              "Annelida                           481    0.198263\n",
              "Rhabdonella                        367    0.151273\n",
              "Stenosemella                       357    0.147152\n",
              "Coscinodiscids                     334    0.137671\n",
              "Retaria                            257    0.105933\n",
              "Pleurosigma                        191    0.078728\n",
              "Ceratocorys horrida                186    0.076667\n",
              "centric                            145    0.059767\n",
              "Odontella (Mediophyceae)           131    0.053997\n",
              "Asterionellopsis                   117    0.048226\n",
              "Cyttarocylis                       100    0.041219\n",
              "Lithodesmioides                     68    0.028029\n",
              "tempChaetoceros danicus             61    0.025144\n",
              "Xystonellidae                       37    0.015251\n",
              "Bacteriastrum                       12    0.004946"
            ]
          },
          "metadata": {
            "tags": []
          }
        }
      ]
    },
    {
      "cell_type": "markdown",
      "metadata": {
        "id": "CKyMZOXbkCQ1"
      },
      "source": [
        "This table really shows how imbalanced is our dataset, with one class representing 57% of the data set while around twenty classes represent less than 1% of the data set. We will therefore need to solve this issue. "
      ]
    },
    {
      "cell_type": "markdown",
      "metadata": {
        "id": "xJvtTVpqkCQ2"
      },
      "source": [
        "<h4> Visualizing some images </h4>"
      ]
    },
    {
      "cell_type": "code",
      "metadata": {
        "id": "YFMESkgykCQ2",
        "outputId": "734cd6da-4a31-4db7-b120-3aa3456c596f"
      },
      "source": [
        "#plotting examples of image for \"artefact\" and \"badfocus (artefact)\"\n",
        "fig, (ax1, ax2) = plt.subplots(ncols=2, figsize=(8,4))\n",
        "idArtefact = int(labelL2[labelL2[\"level2\"]==\"artefact\"].iloc[0].objid)\n",
        "idBadFocus = int(labelL2[labelL2[\"level2\"]==\"badfocus (artefact)\"].iloc[0].objid)\n",
        "img_art = Image.open(img_files['imgs/' + str(idArtefact) +'.jpg'])\n",
        "img_badfocus = Image.open(img_files['imgs/' + str(idBadFocus) + '.jpg'])\n",
        "ax1.imshow(img_art)\n",
        "ax2.imshow(img_badfocus)\n",
        "plt.show()"
      ],
      "execution_count": null,
      "outputs": [
        {
          "output_type": "display_data",
          "data": {
            "image/png": "[encoded data removed]",
            "text/plain": [
              "<Figure size 576x288 with 2 Axes>"
            ]
          },
          "metadata": {
            "tags": []
          }
        }
      ]
    },
    {
      "cell_type": "code",
      "metadata": {
        "id": "pGdVbLjskCQ4",
        "outputId": "f9394d01-b710-406e-bbf8-d2acfd300745"
      },
      "source": [
        "#plotting examples of image for \"multiple (other)\" and \"egg (other)\"\n",
        "fig, (ax1, ax2) = plt.subplots(ncols=2, figsize=(8,4))\n",
        "idMultiple = int(labelL2[labelL2[\"level2\"]==\"multiple (other)\"].iloc[0].objid)\n",
        "idEgg = int(labelL2[labelL2[\"level2\"]==\"egg (other)\"].iloc[0].objid)\n",
        "img_multiple = Image.open(img_files['imgs/' + str(idMultiple) +'.jpg'])\n",
        "img_egg = Image.open(img_files['imgs/' + str(idEgg) + '.jpg'])\n",
        "ax1.imshow(img_multiple)\n",
        "ax2.imshow(img_egg)\n",
        "plt.show()"
      ],
      "execution_count": null,
      "outputs": [
        {
          "output_type": "display_data",
          "data": {
            "image/png": "[encoded data removed]",
            "text/plain": [
              "<Figure size 576x288 with 2 Axes>"
            ]
          },
          "metadata": {
            "tags": []
          }
        }
      ]
    },
    {
      "cell_type": "markdown",
      "metadata": {
        "id": "Wh48nkzUkCQ7"
      },
      "source": [
        "We notice that the egg and the artefact look a lot alike, the classifier will sure better identify the eggs without the artifacts in the data set. At the end, it depends if we want also to be able to identify artefact or not, we will assume that we do not want them. Maybe we could remove other classes that do not represent a (single) plankton but we decided to let the other ones."
      ]
    },
    {
      "cell_type": "code",
      "metadata": {
        "id": "34Tnh8jkkCQ7",
        "outputId": "bdf65511-6e66-4f8f-dc86-ecaf0a51e46c"
      },
      "source": [
        "#plotting examples of image for \"detritus\" and \"feces\"\n",
        "fig, (ax1, ax2) = plt.subplots(ncols=2, figsize=(8,4))\n",
        "idDetritus = int(labelL2[labelL2[\"level2\"]==\"detritus\"].iloc[0].objid)\n",
        "idFeces = int(labelL2[labelL2[\"level2\"]==\"feces\"].iloc[0].objid)\n",
        "img_detritus = Image.open(img_files['imgs/' + str(idDetritus) +'.jpg'])\n",
        "img_feces = Image.open(img_files['imgs/' + str(idFeces) + '.jpg'])\n",
        "ax1.imshow(img_detritus)\n",
        "ax2.imshow(img_feces)\n",
        "plt.show()"
      ],
      "execution_count": null,
      "outputs": [
        {
          "output_type": "display_data",
          "data": {
            "image/png": "[encoded data removed]",
            "text/plain": [
              "<Figure size 576x288 with 2 Axes>"
            ]
          },
          "metadata": {
            "tags": []
          }
        }
      ]
    },
    {
      "cell_type": "markdown",
      "metadata": {
        "id": "MsT2u9S3kCQ-"
      },
      "source": [
        "<div class=\"\">\n",
        "    <h3>2. Data Pre-processing</h3>\n",
        "</div>"
      ]
    },
    {
      "cell_type": "markdown",
      "metadata": {
        "id": "p2NdMxGhkCQ-"
      },
      "source": [
        "We did not use Pytorch's dataloader to process the data \"on the fly\". We are not sure of its utility but we believe that it may be simpler with a dataloader to apply a series of operations more efficiently on images."
      ]
    },
    {
      "cell_type": "markdown",
      "metadata": {
        "id": "wmA7zDr0kCQ-"
      },
      "source": [
        "<h4> Dealing with missing data </h4>"
      ]
    },
    {
      "cell_type": "code",
      "metadata": {
        "id": "UJu4-6UxkCQ_",
        "outputId": "5a1ce448-cb9d-4764-da71-e36213dde054"
      },
      "source": [
        "printMissing(labelL2)"
      ],
      "execution_count": null,
      "outputs": [
        {
          "output_type": "display_data",
          "data": {
            "text/html": [
              "<div>\n",
              "<style scoped>\n",
              "    .dataframe tbody tr th:only-of-type {\n",
              "        vertical-align: middle;\n",
              "    }\n",
              "\n",
              "    .dataframe tbody tr th {\n",
              "        vertical-align: top;\n",
              "    }\n",
              "\n",
              "    .dataframe thead th {\n",
              "        text-align: right;\n",
              "    }\n",
              "</style>\n",
              "<table border=\"1\" class=\"dataframe\">\n",
              "  <thead>\n",
              "    <tr style=\"text-align: right;\">\n",
              "      <th></th>\n",
              "      <th>Total</th>\n",
              "      <th>Percent</th>\n",
              "    </tr>\n",
              "  </thead>\n",
              "  <tbody>\n",
              "    <tr>\n",
              "      <th>level2</th>\n",
              "      <td>1003</td>\n",
              "      <td>0.004117</td>\n",
              "    </tr>\n",
              "  </tbody>\n",
              "</table>\n",
              "</div>"
            ],
            "text/plain": [
              "        Total   Percent\n",
              "level2   1003  0.004117"
            ]
          },
          "metadata": {
            "tags": []
          }
        }
      ]
    },
    {
      "cell_type": "code",
      "metadata": {
        "id": "dtCgm1cpkCRB"
      },
      "source": [
        "#find missing values\n",
        "indices = np.where(labelL2['level2'].isna())[0]\n",
        "\n",
        "#remove pictures without label \n",
        "for i in indices:\n",
        "    objid = str(int(labelL2[labelL2.index == i].objid))\n",
        "    labelL2.drop(labels=i, axis=0, inplace=True)\n",
        "    del(img_files[\"imgs/\" + objid  + \".jpg\"])"
      ],
      "execution_count": null,
      "outputs": []
    },
    {
      "cell_type": "markdown",
      "metadata": {
        "id": "qMjf81zhkCRD"
      },
      "source": [
        "<h4> Dealing with unwanted data (artefact) </h4>"
      ]
    },
    {
      "cell_type": "code",
      "metadata": {
        "id": "5ubLNCozkCRE"
      },
      "source": [
        "def removeImgs(level2, toKeep):\n",
        "    ''' toKeep : number of images we want to keep in the level 2 class specified '''\n",
        "    global labelL2\n",
        "    indices = labelL2.index[labelL2['level2']==level2].tolist()\n",
        "    random.shuffle(indices)  # shuffle so that we remove randomly the images\n",
        "    toRemove = labelL2['level2'].value_counts()[level2]-toKeep #number of images to remove\n",
        "    indices = indices[:toRemove]\n",
        "    for i in indices:\n",
        "        objid = labelL2[labelL2.index == i].objid\n",
        "        objid = str(int(objid))\n",
        "        labelL2.drop(labels=i, axis=0, inplace=True)\n",
        "        del(img_files[\"imgs/\" + objid  + \".jpg\"])"
      ],
      "execution_count": null,
      "outputs": []
    },
    {
      "cell_type": "code",
      "metadata": {
        "id": "9z_cBskMkCRH"
      },
      "source": [
        "#We want to remove all (i.e toKeep=0) artefact and badfocus images\n",
        "removeImgs(\"artefact\", 0)\n",
        "removeImgs(\"badfocus (artefact)\", 0)"
      ],
      "execution_count": null,
      "outputs": []
    },
    {
      "cell_type": "code",
      "metadata": {
        "id": "lasrKNnYkCRJ",
        "outputId": "b9b6627c-d9d9-4326-f2a4-441358fdcf85"
      },
      "source": [
        "#check that we have as many images as label\n",
        "print(\"Same count :\", len(img_files)==len(labelL2))"
      ],
      "execution_count": null,
      "outputs": [
        {
          "output_type": "stream",
          "text": [
            "Same count : True\n"
          ],
          "name": "stdout"
        }
      ]
    },
    {
      "cell_type": "markdown",
      "metadata": {
        "id": "AGLlsmlFkCRL"
      },
      "source": [
        "<h4> Dealing with the imbalanced dataset </h4>"
      ]
    },
    {
      "cell_type": "markdown",
      "metadata": {
        "id": "OYKUsmODkCRL"
      },
      "source": [
        "Reference : https://towardsdatascience.com/methods-for-dealing-with-imbalanced-data-5b761be45a18 \n",
        "\n",
        "Several options can be chosen to deal with an imbalanced dataset : \n",
        "* Changing the <b> performance metric </b> : f1-score is one of the performance metrics adapted for an imbalanced dataset, and it is the one we will use at the end even though we will first make the dataset balanced.\n",
        "* Changing the <b> classifier </b> : using a classifier that deals well with imbalanced dataset like Decision trees. But in our case we will use a neural network which is generally better for image classification.\n",
        "* <b> Resampling </b> :\n",
        "    * <b> undersampling </b> : to diminish the computational cost of our algorithm. Undersampling could lead to underfitting and poor generalization to the test set but could allow for more iterations. We could try to remove/deal with the images with the higher sizes to diminish the computation cost further more, but as we will resize the images it is not necessary, we could even lose some information by selecting only small images. There are many resampling module from Imblearn to remove samples from the majority class in an efficient way. We will later use imblearn's ClusterCentroids to make our dataset balanced but after having done some data augmentation.\n",
        "    * <b> oversampling </b> : this can be done either by manually augmenting the data (in our case by flipping, rotating and so on) or by using some libraries (imblearn’s Synthetic Minority Oversampling Technique). SMOTE uses a nearest neighbors algorithm to generate new and synthetic data we can use for training our model. It could be useful to deal with the classes that are under-representated like 'Bacteriastrum' (only 12 samples) but this would not work due to memory problem : the algorithm will try to generate samples to have as much 'Bacteriastrum' as the number of the majority class. Yet, we will still do some data augmentation by hand.\n",
        "    "
      ]
    },
    {
      "cell_type": "markdown",
      "metadata": {
        "id": "p8E_b6OUkCRM"
      },
      "source": [
        "<h4> Undersampling </h4>"
      ]
    },
    {
      "cell_type": "markdown",
      "metadata": {
        "id": "Hj0B2zdpkCRM"
      },
      "source": [
        "First, we will remove the images that are too much represented in our dataset, this will allow us to later load all the images into numpy arrays.\n",
        "To avoid losing too much information we will still keep about 20,000 samples of the classes that go over this threshold. This is a number that could be optimized to see how it impact our classifier."
      ]
    },
    {
      "cell_type": "code",
      "metadata": {
        "id": "42bbxw9FkCRM",
        "outputId": "c02f2b49-0fad-4d90-f861-32684f20b10c"
      },
      "source": [
        "start = time()\n",
        "removeImgs(\"detritus\", 20000)\n",
        "removeImgs(\"feces\", 20000)\n",
        "print(\"Time :\", time()-start)"
      ],
      "execution_count": null,
      "outputs": [
        {
          "output_type": "stream",
          "text": [
            "Time : 1645.8982622623444\n"
          ],
          "name": "stdout"
        }
      ]
    },
    {
      "cell_type": "code",
      "metadata": {
        "id": "zX2u3bblkCRO",
        "outputId": "cbe8b7e3-6651-48c5-8d49-a4af371ec2c3"
      },
      "source": [
        "countDF = pd.DataFrame()\n",
        "countDF['Count'] = labelL2['level2'].value_counts()\n",
        "countDF['Percentage'] = labelL2['level2'].value_counts(normalize=True) * 100\n",
        "display(countDF)"
      ],
      "execution_count": null,
      "outputs": [
        {
          "output_type": "display_data",
          "data": {
            "text/html": [
              "<div>\n",
              "<style scoped>\n",
              "    .dataframe tbody tr th:only-of-type {\n",
              "        vertical-align: middle;\n",
              "    }\n",
              "\n",
              "    .dataframe tbody tr th {\n",
              "        vertical-align: top;\n",
              "    }\n",
              "\n",
              "    .dataframe thead th {\n",
              "        text-align: right;\n",
              "    }\n",
              "</style>\n",
              "<table border=\"1\" class=\"dataframe\">\n",
              "  <thead>\n",
              "    <tr style=\"text-align: right;\">\n",
              "      <th></th>\n",
              "      <th>Count</th>\n",
              "      <th>Percentage</th>\n",
              "    </tr>\n",
              "  </thead>\n",
              "  <tbody>\n",
              "    <tr>\n",
              "      <th>detritus</th>\n",
              "      <td>20000</td>\n",
              "      <td>18.598596</td>\n",
              "    </tr>\n",
              "    <tr>\n",
              "      <th>feces</th>\n",
              "      <td>20000</td>\n",
              "      <td>18.598596</td>\n",
              "    </tr>\n",
              "    <tr>\n",
              "      <th>Neoceratium</th>\n",
              "      <td>14014</td>\n",
              "      <td>13.032036</td>\n",
              "    </tr>\n",
              "    <tr>\n",
              "      <th>nauplii (Crustacea)</th>\n",
              "      <td>9293</td>\n",
              "      <td>8.641838</td>\n",
              "    </tr>\n",
              "    <tr>\n",
              "      <th>silks</th>\n",
              "      <td>5629</td>\n",
              "      <td>5.234575</td>\n",
              "    </tr>\n",
              "    <tr>\n",
              "      <th>Copepoda</th>\n",
              "      <td>5141</td>\n",
              "      <td>4.780769</td>\n",
              "    </tr>\n",
              "    <tr>\n",
              "      <th>Thalassionema</th>\n",
              "      <td>5117</td>\n",
              "      <td>4.758451</td>\n",
              "    </tr>\n",
              "    <tr>\n",
              "      <th>rods</th>\n",
              "      <td>4044</td>\n",
              "      <td>3.760636</td>\n",
              "    </tr>\n",
              "    <tr>\n",
              "      <th>multiple (other)</th>\n",
              "      <td>3261</td>\n",
              "      <td>3.032501</td>\n",
              "    </tr>\n",
              "    <tr>\n",
              "      <th>Codonellopsis (Dictyocystidae)</th>\n",
              "      <td>2888</td>\n",
              "      <td>2.685637</td>\n",
              "    </tr>\n",
              "    <tr>\n",
              "      <th>Protoperidinium</th>\n",
              "      <td>2256</td>\n",
              "      <td>2.097922</td>\n",
              "    </tr>\n",
              "    <tr>\n",
              "      <th>Tintinnidiidae</th>\n",
              "      <td>2227</td>\n",
              "      <td>2.070954</td>\n",
              "    </tr>\n",
              "    <tr>\n",
              "      <th>Rhizosolenids</th>\n",
              "      <td>2160</td>\n",
              "      <td>2.008648</td>\n",
              "    </tr>\n",
              "    <tr>\n",
              "      <th>Chaetoceros</th>\n",
              "      <td>2105</td>\n",
              "      <td>1.957502</td>\n",
              "    </tr>\n",
              "    <tr>\n",
              "      <th>pollen</th>\n",
              "      <td>1821</td>\n",
              "      <td>1.693402</td>\n",
              "    </tr>\n",
              "    <tr>\n",
              "      <th>Codonaria</th>\n",
              "      <td>845</td>\n",
              "      <td>0.785791</td>\n",
              "    </tr>\n",
              "    <tr>\n",
              "      <th>chainlarge</th>\n",
              "      <td>751</td>\n",
              "      <td>0.698377</td>\n",
              "    </tr>\n",
              "    <tr>\n",
              "      <th>Undellidae</th>\n",
              "      <td>710</td>\n",
              "      <td>0.660250</td>\n",
              "    </tr>\n",
              "    <tr>\n",
              "      <th>egg (other)</th>\n",
              "      <td>685</td>\n",
              "      <td>0.637002</td>\n",
              "    </tr>\n",
              "    <tr>\n",
              "      <th>Hemiaulus</th>\n",
              "      <td>670</td>\n",
              "      <td>0.623053</td>\n",
              "    </tr>\n",
              "    <tr>\n",
              "      <th>Dictyocysta</th>\n",
              "      <td>549</td>\n",
              "      <td>0.510531</td>\n",
              "    </tr>\n",
              "    <tr>\n",
              "      <th>Dinophysiales</th>\n",
              "      <td>525</td>\n",
              "      <td>0.488213</td>\n",
              "    </tr>\n",
              "    <tr>\n",
              "      <th>Annelida</th>\n",
              "      <td>481</td>\n",
              "      <td>0.447296</td>\n",
              "    </tr>\n",
              "    <tr>\n",
              "      <th>Rhabdonella</th>\n",
              "      <td>367</td>\n",
              "      <td>0.341284</td>\n",
              "    </tr>\n",
              "    <tr>\n",
              "      <th>Stenosemella</th>\n",
              "      <td>357</td>\n",
              "      <td>0.331985</td>\n",
              "    </tr>\n",
              "    <tr>\n",
              "      <th>Coscinodiscids</th>\n",
              "      <td>334</td>\n",
              "      <td>0.310597</td>\n",
              "    </tr>\n",
              "    <tr>\n",
              "      <th>Retaria</th>\n",
              "      <td>257</td>\n",
              "      <td>0.238992</td>\n",
              "    </tr>\n",
              "    <tr>\n",
              "      <th>Pleurosigma</th>\n",
              "      <td>191</td>\n",
              "      <td>0.177617</td>\n",
              "    </tr>\n",
              "    <tr>\n",
              "      <th>Ceratocorys horrida</th>\n",
              "      <td>186</td>\n",
              "      <td>0.172967</td>\n",
              "    </tr>\n",
              "    <tr>\n",
              "      <th>centric</th>\n",
              "      <td>145</td>\n",
              "      <td>0.134840</td>\n",
              "    </tr>\n",
              "    <tr>\n",
              "      <th>Odontella (Mediophyceae)</th>\n",
              "      <td>131</td>\n",
              "      <td>0.121821</td>\n",
              "    </tr>\n",
              "    <tr>\n",
              "      <th>Asterionellopsis</th>\n",
              "      <td>117</td>\n",
              "      <td>0.108802</td>\n",
              "    </tr>\n",
              "    <tr>\n",
              "      <th>Cyttarocylis</th>\n",
              "      <td>100</td>\n",
              "      <td>0.092993</td>\n",
              "    </tr>\n",
              "    <tr>\n",
              "      <th>Lithodesmioides</th>\n",
              "      <td>68</td>\n",
              "      <td>0.063235</td>\n",
              "    </tr>\n",
              "    <tr>\n",
              "      <th>tempChaetoceros danicus</th>\n",
              "      <td>61</td>\n",
              "      <td>0.056726</td>\n",
              "    </tr>\n",
              "    <tr>\n",
              "      <th>Xystonellidae</th>\n",
              "      <td>37</td>\n",
              "      <td>0.034407</td>\n",
              "    </tr>\n",
              "    <tr>\n",
              "      <th>Bacteriastrum</th>\n",
              "      <td>12</td>\n",
              "      <td>0.011159</td>\n",
              "    </tr>\n",
              "  </tbody>\n",
              "</table>\n",
              "</div>"
            ],
            "text/plain": [
              "                                Count  Percentage\n",
              "detritus                        20000   18.598596\n",
              "feces                           20000   18.598596\n",
              "Neoceratium                     14014   13.032036\n",
              "nauplii (Crustacea)              9293    8.641838\n",
              "silks                            5629    5.234575\n",
              "Copepoda                         5141    4.780769\n",
              "Thalassionema                    5117    4.758451\n",
              "rods                             4044    3.760636\n",
              "multiple (other)                 3261    3.032501\n",
              "Codonellopsis (Dictyocystidae)   2888    2.685637\n",
              "Protoperidinium                  2256    2.097922\n",
              "Tintinnidiidae                   2227    2.070954\n",
              "Rhizosolenids                    2160    2.008648\n",
              "Chaetoceros                      2105    1.957502\n",
              "pollen                           1821    1.693402\n",
              "Codonaria                         845    0.785791\n",
              "chainlarge                        751    0.698377\n",
              "Undellidae                        710    0.660250\n",
              "egg (other)                       685    0.637002\n",
              "Hemiaulus                         670    0.623053\n",
              "Dictyocysta                       549    0.510531\n",
              "Dinophysiales                     525    0.488213\n",
              "Annelida                          481    0.447296\n",
              "Rhabdonella                       367    0.341284\n",
              "Stenosemella                      357    0.331985\n",
              "Coscinodiscids                    334    0.310597\n",
              "Retaria                           257    0.238992\n",
              "Pleurosigma                       191    0.177617\n",
              "Ceratocorys horrida               186    0.172967\n",
              "centric                           145    0.134840\n",
              "Odontella (Mediophyceae)          131    0.121821\n",
              "Asterionellopsis                  117    0.108802\n",
              "Cyttarocylis                      100    0.092993\n",
              "Lithodesmioides                    68    0.063235\n",
              "tempChaetoceros danicus            61    0.056726\n",
              "Xystonellidae                      37    0.034407\n",
              "Bacteriastrum                      12    0.011159"
            ]
          },
          "metadata": {
            "tags": []
          }
        }
      ]
    },
    {
      "cell_type": "markdown",
      "metadata": {
        "id": "WgUbuOzukCRR"
      },
      "source": [
        "The dataset is still clearly unbalanced, but we will do data augmentation followed by under sampling in the next part."
      ]
    },
    {
      "cell_type": "markdown",
      "metadata": {
        "id": "OVtKkHM2kCRR"
      },
      "source": [
        "<h4> Exploring the size of the images </h4>"
      ]
    },
    {
      "cell_type": "code",
      "metadata": {
        "id": "94aesZjXkCRR"
      },
      "source": [
        "#Opening every image for simplicity after\n",
        "list_keys = list(img_files)\n",
        "for img in list_keys:\n",
        "    img_files[img] = Image.open(img_files[img])"
      ],
      "execution_count": null,
      "outputs": []
    },
    {
      "cell_type": "code",
      "metadata": {
        "id": "F_Muj0BOkCRT",
        "outputId": "2669ff72-3936-4960-ff68-d0d81476dbbd"
      },
      "source": [
        "#load in a dataframe the height and width of images as well as the total size (height*width)\n",
        "sizeDF = pd.DataFrame(columns=[\"height\", \"width\", \"total\"])\n",
        "for i, img in enumerate(img_files):\n",
        "    np_arr = np.array(img_files[img])\n",
        "    shape = np_arr.shape\n",
        "    df = pd.DataFrame([[shape[0], shape[1], shape[0]*shape[1]]], columns = sizeDF.columns)\n",
        "    sizeDF = sizeDF.append(df)\n",
        "display(sizeDF.head())"
      ],
      "execution_count": null,
      "outputs": [
        {
          "output_type": "display_data",
          "data": {
            "text/html": [
              "<div>\n",
              "<style scoped>\n",
              "    .dataframe tbody tr th:only-of-type {\n",
              "        vertical-align: middle;\n",
              "    }\n",
              "\n",
              "    .dataframe tbody tr th {\n",
              "        vertical-align: top;\n",
              "    }\n",
              "\n",
              "    .dataframe thead th {\n",
              "        text-align: right;\n",
              "    }\n",
              "</style>\n",
              "<table border=\"1\" class=\"dataframe\">\n",
              "  <thead>\n",
              "    <tr style=\"text-align: right;\">\n",
              "      <th></th>\n",
              "      <th>height</th>\n",
              "      <th>width</th>\n",
              "      <th>total</th>\n",
              "    </tr>\n",
              "  </thead>\n",
              "  <tbody>\n",
              "    <tr>\n",
              "      <th>0</th>\n",
              "      <td>66</td>\n",
              "      <td>111</td>\n",
              "      <td>7326</td>\n",
              "    </tr>\n",
              "    <tr>\n",
              "      <th>0</th>\n",
              "      <td>174</td>\n",
              "      <td>210</td>\n",
              "      <td>36540</td>\n",
              "    </tr>\n",
              "    <tr>\n",
              "      <th>0</th>\n",
              "      <td>146</td>\n",
              "      <td>73</td>\n",
              "      <td>10658</td>\n",
              "    </tr>\n",
              "    <tr>\n",
              "      <th>0</th>\n",
              "      <td>89</td>\n",
              "      <td>31</td>\n",
              "      <td>2759</td>\n",
              "    </tr>\n",
              "    <tr>\n",
              "      <th>0</th>\n",
              "      <td>78</td>\n",
              "      <td>86</td>\n",
              "      <td>6708</td>\n",
              "    </tr>\n",
              "  </tbody>\n",
              "</table>\n",
              "</div>"
            ],
            "text/plain": [
              "  height width  total\n",
              "0     66   111   7326\n",
              "0    174   210  36540\n",
              "0    146    73  10658\n",
              "0     89    31   2759\n",
              "0     78    86   6708"
            ]
          },
          "metadata": {
            "tags": []
          }
        }
      ]
    },
    {
      "cell_type": "code",
      "metadata": {
        "id": "NXZA-C-fkCRW"
      },
      "source": [
        "sizeDF = sizeDF.reset_index().drop(labels='index', axis=1)\n",
        "# Cast each column to its datatype\n",
        "sizeDF['height'] = sizeDF['height'].astype(np.int64, errors='ignore')\n",
        "sizeDF['width'] = sizeDF['width'].astype(np.int64, errors='ignore')\n",
        "sizeDF['total'] = sizeDF['total'].astype(np.int64, errors='ignore')"
      ],
      "execution_count": null,
      "outputs": []
    },
    {
      "cell_type": "code",
      "metadata": {
        "id": "IbiKGTJSkCRZ",
        "outputId": "7ce5e9c0-3b80-4249-f309-454646db8116"
      },
      "source": [
        "#plot the distribution of the sizes\n",
        "fig, (ax1, ax2) = plt.subplots(1, 2, figsize=(18,10))\n",
        "sns.distplot(sizeDF['height'], color='r', ax=ax1, label=\"height\")\n",
        "sns.distplot(sizeDF['width'], color='b', ax=ax1, label=\"width\")\n",
        "ax1.set_title(\"Distribution of height and width of images\", fontsize=14)\n",
        "\n",
        "sns.distplot(sizeDF['total'], color='g', ax=ax2) \n",
        "ax2.set_title(\"Distribution of total size (height*width) of images\", fontsize=14)\n",
        "\n",
        "plt.show()"
      ],
      "execution_count": null,
      "outputs": [
        {
          "output_type": "display_data",
          "data": {
            "image/png": "[encoded data removed]",
            "text/plain": [
              "<Figure size 1296x720 with 2 Axes>"
            ]
          },
          "metadata": {
            "tags": []
          }
        }
      ]
    },
    {
      "cell_type": "code",
      "metadata": {
        "id": "dYlqQjR3kCRb",
        "outputId": "6890200a-8833-473b-b3ed-6a0d9ca9fc1a"
      },
      "source": [
        "sizeDF.describe()"
      ],
      "execution_count": null,
      "outputs": [
        {
          "output_type": "execute_result",
          "data": {
            "text/html": [
              "<div>\n",
              "<style scoped>\n",
              "    .dataframe tbody tr th:only-of-type {\n",
              "        vertical-align: middle;\n",
              "    }\n",
              "\n",
              "    .dataframe tbody tr th {\n",
              "        vertical-align: top;\n",
              "    }\n",
              "\n",
              "    .dataframe thead th {\n",
              "        text-align: right;\n",
              "    }\n",
              "</style>\n",
              "<table border=\"1\" class=\"dataframe\">\n",
              "  <thead>\n",
              "    <tr style=\"text-align: right;\">\n",
              "      <th></th>\n",
              "      <th>height</th>\n",
              "      <th>width</th>\n",
              "      <th>total</th>\n",
              "    </tr>\n",
              "  </thead>\n",
              "  <tbody>\n",
              "    <tr>\n",
              "      <th>count</th>\n",
              "      <td>107535.000000</td>\n",
              "      <td>107535.000000</td>\n",
              "      <td>107535.000000</td>\n",
              "    </tr>\n",
              "    <tr>\n",
              "      <th>mean</th>\n",
              "      <td>131.300711</td>\n",
              "      <td>96.776817</td>\n",
              "      <td>15071.527875</td>\n",
              "    </tr>\n",
              "    <tr>\n",
              "      <th>std</th>\n",
              "      <td>83.392825</td>\n",
              "      <td>72.969379</td>\n",
              "      <td>24233.255599</td>\n",
              "    </tr>\n",
              "    <tr>\n",
              "      <th>min</th>\n",
              "      <td>9.000000</td>\n",
              "      <td>6.000000</td>\n",
              "      <td>63.000000</td>\n",
              "    </tr>\n",
              "    <tr>\n",
              "      <th>25%</th>\n",
              "      <td>70.000000</td>\n",
              "      <td>50.000000</td>\n",
              "      <td>4056.000000</td>\n",
              "    </tr>\n",
              "    <tr>\n",
              "      <th>50%</th>\n",
              "      <td>109.000000</td>\n",
              "      <td>73.000000</td>\n",
              "      <td>7632.000000</td>\n",
              "    </tr>\n",
              "    <tr>\n",
              "      <th>75%</th>\n",
              "      <td>166.000000</td>\n",
              "      <td>122.000000</td>\n",
              "      <td>15820.000000</td>\n",
              "    </tr>\n",
              "    <tr>\n",
              "      <th>max</th>\n",
              "      <td>739.000000</td>\n",
              "      <td>972.000000</td>\n",
              "      <td>583792.000000</td>\n",
              "    </tr>\n",
              "  </tbody>\n",
              "</table>\n",
              "</div>"
            ],
            "text/plain": [
              "              height          width          total\n",
              "count  107535.000000  107535.000000  107535.000000\n",
              "mean      131.300711      96.776817   15071.527875\n",
              "std        83.392825      72.969379   24233.255599\n",
              "min         9.000000       6.000000      63.000000\n",
              "25%        70.000000      50.000000    4056.000000\n",
              "50%       109.000000      73.000000    7632.000000\n",
              "75%       166.000000     122.000000   15820.000000\n",
              "max       739.000000     972.000000  583792.000000"
            ]
          },
          "metadata": {
            "tags": []
          },
          "execution_count": 17
        }
      ]
    },
    {
      "cell_type": "markdown",
      "metadata": {
        "id": "9InsjH0_kCRd"
      },
      "source": [
        "When looking at the extremas, we can see that there are big differences between the size of some images. The standard deviation is also pretty high with regard to the mean. Yet, we observe in the means as well as in the quantiles a factor of approximately 0.7-0.8 between the height and the width that we may want to keep when resizing in order to keep a similar shape."
      ]
    },
    {
      "cell_type": "code",
      "metadata": {
        "id": "n4HZbn0jkCRd"
      },
      "source": [
        "del(sizeDF)"
      ],
      "execution_count": null,
      "outputs": []
    },
    {
      "cell_type": "markdown",
      "metadata": {
        "id": "xpVsjJEGkCRf"
      },
      "source": [
        "<h4> Oversampling : data augmentation </h4>"
      ]
    },
    {
      "cell_type": "markdown",
      "metadata": {
        "id": "PD_Dk3VckCRg"
      },
      "source": [
        "References :\n",
        "* https://towardsdatascience.com/image-augmentation-examples-in-python-d552c26f2873\n",
        "* http://effbot.org/imagingbook/introduction.htm#geometrical-transforms\n",
        "\n",
        "There are several ways of augmentating the data of images (rotation, translation, noise etc) that can be useful to solve the imbalanced data problem. There are also more complex technics for data augmentation (Neural Style Transfer, Generative Adversarial Networks or Keras'ImageDataGenerator class) but we stayed on manual operations. \n",
        "\n",
        "We will do several augmentations to the under represented classes, those whose samples are under a certain threshold."
      ]
    },
    {
      "cell_type": "code",
      "metadata": {
        "id": "MXnqhdpmkCRg"
      },
      "source": [
        "def findInfL2(count):\n",
        "    ''' find classes with samples inferior to count'''\n",
        "    infL2 = labelL2['level2'].value_counts()<count\n",
        "    infL2 = infL2.to_frame()\n",
        "    infL2 = infL2[infL2.level2]\n",
        "    infL2 = infL2.index\n",
        "    return infL2"
      ],
      "execution_count": null,
      "outputs": []
    },
    {
      "cell_type": "code",
      "metadata": {
        "id": "nT-OQfYlkCRi"
      },
      "source": [
        "#Flipping\n",
        "def flipImages(toflip, way=Image.FLIP_LEFT_RIGHT, prefix=\"9\"): \n",
        "    global labelL2\n",
        "    list_keys = list(img_files)\n",
        "    for img in list_keys:\n",
        "        #Extract the id to find the corresponding label\n",
        "        objId = int(re.sub(\"[^0-9]\", \"\", img))\n",
        "        level2 = labelL2[labelL2['objid']== objId]['level2'].iloc[0]\n",
        "        if level2 in toflip:\n",
        "            newId = prefix + str(objId)\n",
        "            img_files[\"imgs/\" + newId + \".jpg\"] = img_files[img].transpose(way)  \n",
        "            df = pd.DataFrame([[int(newId), level2]], columns = labelL2.columns)\n",
        "            labelL2 = labelL2.append(df)"
      ],
      "execution_count": null,
      "outputs": []
    },
    {
      "cell_type": "code",
      "metadata": {
        "id": "o_iDOJEwkCRk"
      },
      "source": [
        "#Filtering\n",
        "def filterImages(toflip, way=ImageFilter.BLUR, prefix = \"9\"): \n",
        "    global labelL2\n",
        "    list_keys = list(img_files)\n",
        "    for img in list_keys:\n",
        "        #Extract the id to find the corresponding label\n",
        "        objId = int(re.sub(\"[^0-9]\", \"\", img))\n",
        "        level2 = labelL2[labelL2['objid']== objId]['level2'].iloc[0]\n",
        "        if level2 in toflip:\n",
        "            newId = prefix + str(objId)\n",
        "            img_files[\"imgs/\" + newId + \".jpg\"] = img_files[img].filter(way)  \n",
        "            df = pd.DataFrame([[int(newId), level2]], columns = labelL2.columns)\n",
        "            labelL2 = labelL2.append(df)"
      ],
      "execution_count": null,
      "outputs": []
    },
    {
      "cell_type": "code",
      "metadata": {
        "id": "fGaa-Hh3kCRm"
      },
      "source": [
        "flipImages(findInfL2(1000), way=Image.FLIP_LEFT_RIGHT, prefix=\"1\")\n",
        "flipImages(findInfL2(1000), way=Image.FLIP_TOP_BOTTOM, prefix=\"2\")\n",
        "filterImages(findInfL2(1000), way=ImageFilter.BLUR, prefix = \"4\")\n",
        "flipImages(findInfL2(1000), way= Image.ROTATE_90, prefix = \"5\")\n",
        "filterImages(findInfL2(1000), way=ImageFilter.SMOOTH, prefix = \"6\")\n",
        "filterImages(findInfL2(1000), way= ImageFilter.DETAIL, prefix = \"7\")\n",
        "filterImages(findInfL2(1000), way= ImageFilter.SHARPEN, prefix = \"8\")"
      ],
      "execution_count": null,
      "outputs": []
    },
    {
      "cell_type": "code",
      "metadata": {
        "id": "EoobU87QkCRo",
        "outputId": "1962972a-4bbf-4d40-cc9d-026748ecf79e"
      },
      "source": [
        "countDF = pd.DataFrame()\n",
        "countDF['Count'] = labelL2['level2'].value_counts()\n",
        "countDF['Percentage'] = labelL2['level2'].value_counts(normalize=True) * 100\n",
        "display(countDF)"
      ],
      "execution_count": null,
      "outputs": [
        {
          "output_type": "display_data",
          "data": {
            "text/html": [
              "<div>\n",
              "<style scoped>\n",
              "    .dataframe tbody tr th:only-of-type {\n",
              "        vertical-align: middle;\n",
              "    }\n",
              "\n",
              "    .dataframe tbody tr th {\n",
              "        vertical-align: top;\n",
              "    }\n",
              "\n",
              "    .dataframe thead th {\n",
              "        text-align: right;\n",
              "    }\n",
              "</style>\n",
              "<table border=\"1\" class=\"dataframe\">\n",
              "  <thead>\n",
              "    <tr style=\"text-align: right;\">\n",
              "      <th></th>\n",
              "      <th>Count</th>\n",
              "      <th>Percentage</th>\n",
              "    </tr>\n",
              "  </thead>\n",
              "  <tbody>\n",
              "    <tr>\n",
              "      <th>detritus</th>\n",
              "      <td>20000</td>\n",
              "      <td>15.259488</td>\n",
              "    </tr>\n",
              "    <tr>\n",
              "      <th>feces</th>\n",
              "      <td>20000</td>\n",
              "      <td>15.259488</td>\n",
              "    </tr>\n",
              "    <tr>\n",
              "      <th>Neoceratium</th>\n",
              "      <td>14014</td>\n",
              "      <td>10.692323</td>\n",
              "    </tr>\n",
              "    <tr>\n",
              "      <th>nauplii (Crustacea)</th>\n",
              "      <td>9293</td>\n",
              "      <td>7.090321</td>\n",
              "    </tr>\n",
              "    <tr>\n",
              "      <th>silks</th>\n",
              "      <td>5629</td>\n",
              "      <td>4.294783</td>\n",
              "    </tr>\n",
              "    <tr>\n",
              "      <th>Copepoda</th>\n",
              "      <td>5141</td>\n",
              "      <td>3.922451</td>\n",
              "    </tr>\n",
              "    <tr>\n",
              "      <th>Thalassionema</th>\n",
              "      <td>5117</td>\n",
              "      <td>3.904140</td>\n",
              "    </tr>\n",
              "    <tr>\n",
              "      <th>rods</th>\n",
              "      <td>4044</td>\n",
              "      <td>3.085468</td>\n",
              "    </tr>\n",
              "    <tr>\n",
              "      <th>multiple (other)</th>\n",
              "      <td>3261</td>\n",
              "      <td>2.488059</td>\n",
              "    </tr>\n",
              "    <tr>\n",
              "      <th>Codonellopsis (Dictyocystidae)</th>\n",
              "      <td>2888</td>\n",
              "      <td>2.203470</td>\n",
              "    </tr>\n",
              "    <tr>\n",
              "      <th>Protoperidinium</th>\n",
              "      <td>2256</td>\n",
              "      <td>1.721270</td>\n",
              "    </tr>\n",
              "    <tr>\n",
              "      <th>Tintinnidiidae</th>\n",
              "      <td>2227</td>\n",
              "      <td>1.699144</td>\n",
              "    </tr>\n",
              "    <tr>\n",
              "      <th>Rhizosolenids</th>\n",
              "      <td>2160</td>\n",
              "      <td>1.648025</td>\n",
              "    </tr>\n",
              "    <tr>\n",
              "      <th>Chaetoceros</th>\n",
              "      <td>2105</td>\n",
              "      <td>1.606061</td>\n",
              "    </tr>\n",
              "    <tr>\n",
              "      <th>tempChaetoceros danicus</th>\n",
              "      <td>1952</td>\n",
              "      <td>1.489326</td>\n",
              "    </tr>\n",
              "    <tr>\n",
              "      <th>Annelida</th>\n",
              "      <td>1924</td>\n",
              "      <td>1.467963</td>\n",
              "    </tr>\n",
              "    <tr>\n",
              "      <th>Asterionellopsis</th>\n",
              "      <td>1872</td>\n",
              "      <td>1.428288</td>\n",
              "    </tr>\n",
              "    <tr>\n",
              "      <th>pollen</th>\n",
              "      <td>1821</td>\n",
              "      <td>1.389376</td>\n",
              "    </tr>\n",
              "    <tr>\n",
              "      <th>Codonaria</th>\n",
              "      <td>1690</td>\n",
              "      <td>1.289427</td>\n",
              "    </tr>\n",
              "    <tr>\n",
              "      <th>Cyttarocylis</th>\n",
              "      <td>1600</td>\n",
              "      <td>1.220759</td>\n",
              "    </tr>\n",
              "    <tr>\n",
              "      <th>Bacteriastrum</th>\n",
              "      <td>1536</td>\n",
              "      <td>1.171929</td>\n",
              "    </tr>\n",
              "    <tr>\n",
              "      <th>Pleurosigma</th>\n",
              "      <td>1528</td>\n",
              "      <td>1.165825</td>\n",
              "    </tr>\n",
              "    <tr>\n",
              "      <th>chainlarge</th>\n",
              "      <td>1502</td>\n",
              "      <td>1.145988</td>\n",
              "    </tr>\n",
              "    <tr>\n",
              "      <th>Ceratocorys horrida</th>\n",
              "      <td>1488</td>\n",
              "      <td>1.135306</td>\n",
              "    </tr>\n",
              "    <tr>\n",
              "      <th>Rhabdonella</th>\n",
              "      <td>1468</td>\n",
              "      <td>1.120046</td>\n",
              "    </tr>\n",
              "    <tr>\n",
              "      <th>Stenosemella</th>\n",
              "      <td>1428</td>\n",
              "      <td>1.089527</td>\n",
              "    </tr>\n",
              "    <tr>\n",
              "      <th>Undellidae</th>\n",
              "      <td>1420</td>\n",
              "      <td>1.083424</td>\n",
              "    </tr>\n",
              "    <tr>\n",
              "      <th>egg (other)</th>\n",
              "      <td>1370</td>\n",
              "      <td>1.045275</td>\n",
              "    </tr>\n",
              "    <tr>\n",
              "      <th>Hemiaulus</th>\n",
              "      <td>1340</td>\n",
              "      <td>1.022386</td>\n",
              "    </tr>\n",
              "    <tr>\n",
              "      <th>Coscinodiscids</th>\n",
              "      <td>1336</td>\n",
              "      <td>1.019334</td>\n",
              "    </tr>\n",
              "    <tr>\n",
              "      <th>Xystonellidae</th>\n",
              "      <td>1184</td>\n",
              "      <td>0.903362</td>\n",
              "    </tr>\n",
              "    <tr>\n",
              "      <th>centric</th>\n",
              "      <td>1160</td>\n",
              "      <td>0.885050</td>\n",
              "    </tr>\n",
              "    <tr>\n",
              "      <th>Dictyocysta</th>\n",
              "      <td>1098</td>\n",
              "      <td>0.837746</td>\n",
              "    </tr>\n",
              "    <tr>\n",
              "      <th>Lithodesmioides</th>\n",
              "      <td>1088</td>\n",
              "      <td>0.830116</td>\n",
              "    </tr>\n",
              "    <tr>\n",
              "      <th>Dinophysiales</th>\n",
              "      <td>1050</td>\n",
              "      <td>0.801123</td>\n",
              "    </tr>\n",
              "    <tr>\n",
              "      <th>Odontella (Mediophyceae)</th>\n",
              "      <td>1048</td>\n",
              "      <td>0.799597</td>\n",
              "    </tr>\n",
              "    <tr>\n",
              "      <th>Retaria</th>\n",
              "      <td>1028</td>\n",
              "      <td>0.784338</td>\n",
              "    </tr>\n",
              "  </tbody>\n",
              "</table>\n",
              "</div>"
            ],
            "text/plain": [
              "                                Count  Percentage\n",
              "detritus                        20000   15.259488\n",
              "feces                           20000   15.259488\n",
              "Neoceratium                     14014   10.692323\n",
              "nauplii (Crustacea)              9293    7.090321\n",
              "silks                            5629    4.294783\n",
              "Copepoda                         5141    3.922451\n",
              "Thalassionema                    5117    3.904140\n",
              "rods                             4044    3.085468\n",
              "multiple (other)                 3261    2.488059\n",
              "Codonellopsis (Dictyocystidae)   2888    2.203470\n",
              "Protoperidinium                  2256    1.721270\n",
              "Tintinnidiidae                   2227    1.699144\n",
              "Rhizosolenids                    2160    1.648025\n",
              "Chaetoceros                      2105    1.606061\n",
              "tempChaetoceros danicus          1952    1.489326\n",
              "Annelida                         1924    1.467963\n",
              "Asterionellopsis                 1872    1.428288\n",
              "pollen                           1821    1.389376\n",
              "Codonaria                        1690    1.289427\n",
              "Cyttarocylis                     1600    1.220759\n",
              "Bacteriastrum                    1536    1.171929\n",
              "Pleurosigma                      1528    1.165825\n",
              "chainlarge                       1502    1.145988\n",
              "Ceratocorys horrida              1488    1.135306\n",
              "Rhabdonella                      1468    1.120046\n",
              "Stenosemella                     1428    1.089527\n",
              "Undellidae                       1420    1.083424\n",
              "egg (other)                      1370    1.045275\n",
              "Hemiaulus                        1340    1.022386\n",
              "Coscinodiscids                   1336    1.019334\n",
              "Xystonellidae                    1184    0.903362\n",
              "centric                          1160    0.885050\n",
              "Dictyocysta                      1098    0.837746\n",
              "Lithodesmioides                  1088    0.830116\n",
              "Dinophysiales                    1050    0.801123\n",
              "Odontella (Mediophyceae)         1048    0.799597\n",
              "Retaria                          1028    0.784338"
            ]
          },
          "metadata": {
            "tags": []
          }
        }
      ]
    },
    {
      "cell_type": "markdown",
      "metadata": {
        "id": "tPtUWM53kCRr"
      },
      "source": [
        "The data set is already a bit more balanced but we would like to want around 100/37=2.7 percent for each class. "
      ]
    },
    {
      "cell_type": "markdown",
      "metadata": {
        "id": "294wYPhokCRr"
      },
      "source": [
        "<h4> Resizing </h4>"
      ]
    },
    {
      "cell_type": "markdown",
      "metadata": {
        "id": "Oumho1zykCRr"
      },
      "source": [
        "Aligning images is necessary to train a neural network, yet we may lose information from the size of the objects that could have been useful. It is possible that a classifier learning from the size (as well as other features) would do better.\n",
        "\n",
        "We decided to rescale the images to a small size to diminish the computational cost but we also take into account the result of the analysis of dimensions. We took the size given approximately by the first quantile : height 64 and width 48. This way we keep also the factor of 0.7-0.8 between the height and the width that we can find in the three quantiles as well as the mean."
      ]
    },
    {
      "cell_type": "code",
      "metadata": {
        "id": "6fDh7NA9kCRs"
      },
      "source": [
        "size = (64, 48)"
      ],
      "execution_count": null,
      "outputs": []
    },
    {
      "cell_type": "code",
      "metadata": {
        "id": "LtREc9sNkCRu",
        "outputId": "80b0e441-27bd-49b7-c1ee-0ccc0fe27298"
      },
      "source": [
        "#Showing an image before resizing\n",
        "img_test = img_files['imgs/31455302.jpg']\n",
        "plt.imshow(img_test)\n",
        "np_arr = np.array(img_test)\n",
        "print(\"Shape before :\", np_arr.shape)"
      ],
      "execution_count": null,
      "outputs": [
        {
          "output_type": "stream",
          "text": [
            "Shape before : (91, 112)\n"
          ],
          "name": "stdout"
        },
        {
          "output_type": "display_data",
          "data": {
            "image/png": "[encoded data removed]",
            "text/plain": [
              "<Figure size 432x288 with 1 Axes>"
            ]
          },
          "metadata": {
            "tags": []
          }
        }
      ]
    },
    {
      "cell_type": "code",
      "metadata": {
        "id": "rYqAtxTUkCRw",
        "outputId": "e147dc7b-5e04-4e35-f965-6dba80a52f77"
      },
      "source": [
        "#Showing the same image after resizing\n",
        "img_test = img_files['imgs/31455302.jpg'].resize(size)\n",
        "plt.imshow(img_test)\n",
        "np_arr = np.array(img_test)\n",
        "print(\"Shape after :\", np_arr.shape)"
      ],
      "execution_count": null,
      "outputs": [
        {
          "output_type": "stream",
          "text": [
            "Shape after : (48, 64)\n"
          ],
          "name": "stdout"
        },
        {
          "output_type": "display_data",
          "data": {
            "image/png": "[encoded data removed]",
            "text/plain": [
              "<Figure size 432x288 with 1 Axes>"
            ]
          },
          "metadata": {
            "tags": []
          }
        }
      ]
    },
    {
      "cell_type": "markdown",
      "metadata": {
        "id": "QGW_pz0LkCRy"
      },
      "source": [
        "<h4> Resizing and loading the images into arrays </h4>"
      ]
    },
    {
      "cell_type": "markdown",
      "metadata": {
        "id": "zdxZM_UikCRz"
      },
      "source": [
        "We will load and resize everything in numpy arrays. Our first model being a MultiLayer Perceptron, a single image will be in a single flat array. For a CNN we would have keep the two-dimensions of the images. We will reshape the arrays later for the CNN."
      ]
    },
    {
      "cell_type": "code",
      "metadata": {
        "id": "5rhUV_eikCRz",
        "outputId": "2ca035ae-4c10-4c1a-bd98-69d71bf50ddb"
      },
      "source": [
        "length_arr = size[0]*size[1]\n",
        "x, y = [], [] \n",
        "start = time()\n",
        "#Preparing the inputs and labels\n",
        "list_keys = list(img_files)\n",
        "for img in list_keys:\n",
        "    np_arr = np.asarray(img_files[img].resize(size))\n",
        "    del(img_files[img])\n",
        "    np_arr = np.reshape(np_arr, length_arr)/255\n",
        "    #Extract the id to find the corresponding label\n",
        "    objId = int(re.sub(\"[^0-9]\", \"\", img))\n",
        "    level2 = labelL2[labelL2['objid']== objId]['level2'].iloc[0]\n",
        "    x.append(np_arr)\n",
        "    y.append(level2)\n",
        "\n",
        "x = np.asarray(x)\n",
        "y = np.asarray(y)\n",
        "print(\"Time : \", time()-start)"
      ],
      "execution_count": null,
      "outputs": [
        {
          "output_type": "stream",
          "text": [
            "Time :  113.67287397384644\n"
          ],
          "name": "stdout"
        }
      ]
    },
    {
      "cell_type": "code",
      "metadata": {
        "id": "gOGPpS5RkCR1"
      },
      "source": [
        "#freeing some memory\n",
        "del(list_keys)\n",
        "del(img_files)\n",
        "del(meta)\n",
        "del(labelL2)"
      ],
      "execution_count": null,
      "outputs": []
    },
    {
      "cell_type": "markdown",
      "metadata": {
        "id": "5iyambKRkCR5"
      },
      "source": [
        "<h4> Splitting our data into training and testing set </h4> "
      ]
    },
    {
      "cell_type": "markdown",
      "metadata": {
        "id": "BUqQpvIbkCR5"
      },
      "source": [
        "As we do not have a testing set to test our models, we will split our data set. The stratify parameter splits the data in a way so that the proportion of values in the samples produced will be the same as the proportion of values provided to the parameter. This way we are sure that all label classes are represented in the testing set.\n",
        "\n",
        "We should have done this before the data augmentation process (meaning first load the array, then split, then do some data augmentation on the array) because now we can have some generated images in the testing set, thus we do not ensure that our model generalizes well to (really) unseen data. For that, we can consider that the score of the testing may be a bit higher than if we split the data before data augmentation."
      ]
    },
    {
      "cell_type": "code",
      "metadata": {
        "id": "db9Zh1lEkCR5"
      },
      "source": [
        "#Splitting our data in training and testing sets, with a choice of 20% of the data for the test\n",
        "x_train, x_test, y_train, y_test = model_selection.train_test_split(x, y, test_size=0.2, random_state=42, stratify=y)"
      ],
      "execution_count": null,
      "outputs": []
    },
    {
      "cell_type": "markdown",
      "metadata": {
        "id": "JPlKYj7NkCR8"
      },
      "source": [
        "<h4> Encoding the labels </h4>"
      ]
    },
    {
      "cell_type": "code",
      "metadata": {
        "id": "9uBbrzjPkCR8"
      },
      "source": [
        "#Encoding the labels with the LabelBinarizer\n",
        "lb = preprocessing.LabelBinarizer()\n",
        "lb.fit(y)\n",
        "y_train = lb.transform(y_train)\n",
        "y_test = lb.transform(y_test)"
      ],
      "execution_count": null,
      "outputs": []
    },
    {
      "cell_type": "code",
      "metadata": {
        "id": "BTTNwqqCkCR_"
      },
      "source": [
        "#freeing memory\n",
        "del(x)\n",
        "del(y)"
      ],
      "execution_count": null,
      "outputs": []
    },
    {
      "cell_type": "code",
      "metadata": {
        "id": "g7K-dkZvkCSB",
        "outputId": "f81d4219-683f-49da-a5d6-52cc6495bd12"
      },
      "source": [
        "#Printing the sizes\n",
        "print(\"Shape x_train\", x_train.shape)\n",
        "print(\"Shape y_train\", y_train.shape)\n",
        "print(\"Shape x_test\", x_test.shape)\n",
        "print(\"Shape y_test\", y_test.shape)"
      ],
      "execution_count": null,
      "outputs": [
        {
          "output_type": "stream",
          "text": [
            "Shape x_train (104852, 3072)\n",
            "Shape y_train (104852, 37)\n",
            "Shape x_test (26214, 3072)\n",
            "Shape y_test (26214, 37)\n"
          ],
          "name": "stdout"
        }
      ]
    },
    {
      "cell_type": "markdown",
      "metadata": {
        "id": "-slbet5wkCSD"
      },
      "source": [
        "<h4> Standardizing the inputs </h4>"
      ]
    },
    {
      "cell_type": "markdown",
      "metadata": {
        "id": "HNPbSZZIkCSE"
      },
      "source": [
        "It is still needed to standardize the inputs to make the training less sensitive to the scale of features. We make the mean of the data equals to 0 and the standard deviation equals to 1."
      ]
    },
    {
      "cell_type": "code",
      "metadata": {
        "id": "78D82E4NkCSE"
      },
      "source": [
        "x_train = (x_train-x_train.mean())/x_train.std()\n",
        "x_test = (x_test-x_test.mean())/x_test.std()"
      ],
      "execution_count": null,
      "outputs": []
    },
    {
      "cell_type": "markdown",
      "metadata": {
        "id": "ltITeszCkCSG"
      },
      "source": [
        "<h4> Undersampling with ClusterCentroids </h4>"
      ]
    },
    {
      "cell_type": "markdown",
      "metadata": {
        "id": "beO4VWNzkCSG"
      },
      "source": [
        "References :\n",
        "* https://stats.stackexchange.com/questions/166458/rose-and-smote-oversampling-methods\n",
        "* https://imbalanced-learn.readthedocs.io/en/stable/under_sampling.html\n",
        "* https://imbalanced-learn.readthedocs.io/en/stable/over_sampling.html\n",
        "\n",
        "As we said before, we could use SMOTE to over-sample minority class. The problem is that this method will over-sample all classes to have the same number of samples as the majority class (20000*37 samples in total), this will results in a memory error. We could decide to diminish the count of the majority class decided before to apply this over-sampling technique, but we would lose information by randomly deleting images. Therefore we will not do over-sampling.\n",
        "\n",
        "Instead we will under-sample using a prototype generation technique : cluster centroids.\n",
        "Prototype generation technique will reduce the number of samples in the targeted classes but the remaining samples are generated — and not selected — from the original set. If we hadn't done data augmentation before, under-sampling would have get us with only a few samples (12\\*37 samples in total) because the minority class had only few images. This would have been bad for the performance of the classifier. Now we would expect around 1028\\*37=38036 samples in total but weirdly the number of clusters in 1202 which gives a total of 1202\\*37=44474 samples. We also see with the warning messages that some classes have possible duplicate due to the manual data augmentation. "
      ]
    },
    {
      "cell_type": "code",
      "metadata": {
        "id": "MAhRtqYYkCSH",
        "outputId": "ea721f03-6de8-4031-fff0-2833dfea1f9c"
      },
      "source": [
        "#prototype generation for under-sampling\n",
        "start= time()\n",
        "cc = ClusterCentroids(random_state=5)\n",
        "x_train, y_train = cc.fit_resample(x_train, y_train)\n",
        "print(\"Time : \", time()-start)"
      ],
      "execution_count": null,
      "outputs": [
        {
          "output_type": "stream",
          "text": [
            "/mnt/workspace/.local/lib/python3.5/site-packages/sklearn/cluster/k_means_.py:971: ConvergenceWarning: Number of distinct clusters (384) found smaller than n_clusters (1202). Possibly due to duplicate points in X.\n",
            "  return_n_iter=True)\n",
            "/mnt/workspace/.local/lib/python3.5/site-packages/sklearn/cluster/k_means_.py:971: ConvergenceWarning: Number of distinct clusters (1033) found smaller than n_clusters (1202). Possibly due to duplicate points in X.\n",
            "  return_n_iter=True)\n",
            "/mnt/workspace/.local/lib/python3.5/site-packages/sklearn/cluster/k_means_.py:971: ConvergenceWarning: Number of distinct clusters (1138) found smaller than n_clusters (1202). Possibly due to duplicate points in X.\n",
            "  return_n_iter=True)\n"
          ],
          "name": "stderr"
        }
      ]
    },
    {
      "cell_type": "code",
      "metadata": {
        "id": "YvUg1rmjkCSJ",
        "outputId": "7ba2a42a-bf3c-4ad0-9402-d06fd4c6831e"
      },
      "source": [
        "#Printing the sizes\n",
        "print(\"Shape x_train\", x_train.shape)\n",
        "print(\"Shape y_train\", y_train.shape)\n",
        "print(\"Shape x_test\", x_test.shape)\n",
        "print(\"Shape y_test\", y_test.shape)"
      ],
      "execution_count": null,
      "outputs": [
        {
          "output_type": "stream",
          "text": [
            "Shape x_train (44474, 3072)\n",
            "Shape y_train (44474, 37)\n",
            "Shape x_test (29715, 3072)\n",
            "Shape y_test (29715, 37)\n"
          ],
          "name": "stdout"
        }
      ]
    },
    {
      "cell_type": "markdown",
      "metadata": {
        "id": "R8hz8_7ckCSL"
      },
      "source": [
        "<h4> Saving the data for later use </h4>"
      ]
    },
    {
      "cell_type": "markdown",
      "metadata": {
        "id": "Rhs2O9EgkCSL"
      },
      "source": [
        "Instead of doing all the operations all over again and as the ClusterCentroids algorithm took almost 4 hours, we save the process data so that we just have to load them."
      ]
    },
    {
      "cell_type": "code",
      "metadata": {
        "id": "4lslisDdkCSM"
      },
      "source": [
        "np.savetxt(\"x_train.csv\", x_train, delimiter=\",\", fmt='%10f')\n",
        "np.savetxt(\"y_train.csv\", y_train, delimiter=\",\", fmt='%d')\n",
        "np.savetxt(\"x_test.csv\", x_test, delimiter=\",\", fmt='%10f')\n",
        "np.savetxt(\"y_test.csv\", y_test, delimiter=\",\", fmt='%d')"
      ],
      "execution_count": null,
      "outputs": []
    },
    {
      "cell_type": "code",
      "metadata": {
        "id": "bib6idKFkCSO"
      },
      "source": [
        "x_train = np.loadtxt(\"x_train.csv\", delimiter=\",\") \n",
        "y_train = np.loadtxt(\"y_train.csv\", delimiter=\",\") \n",
        "x_test = np.loadtxt(\"x_test.csv\", delimiter=\",\") \n",
        "y_test = np.loadtxt(\"y_test.csv\", delimiter=\",\") "
      ],
      "execution_count": null,
      "outputs": []
    },
    {
      "cell_type": "markdown",
      "metadata": {
        "id": "dl-lUpwlkCSP"
      },
      "source": [
        "<div class=\"\">\n",
        "    <h3>3. Model Selection</h3>\n",
        "</div>"
      ]
    },
    {
      "cell_type": "markdown",
      "metadata": {
        "id": "3XyUc4zLkCSQ"
      },
      "source": [
        "There are different ways to deal with this classification problem. We processed the data in a way to use a MultiLayer Perceptron Classifier, we could still reshape the arrays to use a CNN. We could also have use the features. We will compare what could be the advantages/disadvantages of all the models.\n",
        "\n",
        "References : \n",
        "* https://machinelearningmastery.com/when-to-use-mlp-cnn-and-rnn-neural-networks/"
      ]
    },
    {
      "cell_type": "markdown",
      "metadata": {
        "id": "jNX65gKmkCSQ"
      },
      "source": [
        "<h4> Classifiers using extracted features </h4>\n",
        "\n",
        "Using the extracted features, we could have used a Decision Trees, Random Forest Classifier, SVC and so on as models. There is no certainty that the model will be more accurate but as we said, it could take into account the size of the images which may be an important feature of a class, indeed we saw that the distribution of the size is largely spread. Furthermore, depending of the number of availables features, it is possible that training the classifier would be faster, there is also less need to do data augmentation than for the use of a NN.\n",
        "Still, we know that a CNN works very well for image recognition and it is the prefered way to do in this case."
      ]
    },
    {
      "cell_type": "markdown",
      "metadata": {
        "id": "2BTyiX6MkCSQ"
      },
      "source": [
        "<h4> MultiLayer Perceptron (MLP) </h4>"
      ]
    },
    {
      "cell_type": "markdown",
      "metadata": {
        "id": "_3JeBxHXkCSR"
      },
      "source": [
        "> They are comprised of one or more layers of neurons. Data is fed to the input layer, there may be one or more hidden layers providing levels of abstraction, and predictions are made on the output layer, also called the visible layer.\n",
        "\n",
        "> MLPs are suitable for classification prediction problems where inputs are assigned a class or label. They are very flexible and can be used generally to learn a mapping from inputs to outputs.\n",
        "> This flexibility allows them to be applied to other types of data. For example, the pixels of an image can be reduced down to one long row of data and fed into a MLP. \n",
        "\n",
        "Though we know by theory that CNN are more efficient, we first chose to implement a MLP classifier so that we could compare the results."
      ]
    },
    {
      "cell_type": "markdown",
      "metadata": {
        "id": "lXlxIyx6kCSS"
      },
      "source": [
        "<h4> Convolutional Neural Network (CNN) </h4>"
      ]
    },
    {
      "cell_type": "markdown",
      "metadata": {
        "id": "11Gn6bIMkCSS"
      },
      "source": [
        "CNNs work well with data that has a spatial relationship. CNNs are therefore well designed to map image data to an output variable. They are thus more adapted to our problem.\n",
        "> They have proven so effective that they are the go-to method for any type of prediction problem involving image data as an input.\n",
        "\n",
        "> The benefit of using CNNs is their ability to develop an internal representation of a two-dimensional image. This allows the model to learn position and scale in variant structures in the data, which is important when working with images."
      ]
    },
    {
      "cell_type": "markdown",
      "metadata": {
        "id": "NhcQ1neZkCSS"
      },
      "source": [
        "<div class=\"\">\n",
        "    <h3>4. Parameter Optimisation</h3>\n",
        "</div>"
      ]
    },
    {
      "cell_type": "markdown",
      "metadata": {
        "id": "eDFfkkaHkCSS"
      },
      "source": [
        "Even though a CNN would surely perform better than a MLP, we decided to first try with the MLP classifier and tuning its parameters. We will compare the models at the end."
      ]
    },
    {
      "cell_type": "markdown",
      "metadata": {
        "id": "I7CFogJzkCSU"
      },
      "source": [
        "<h4> Defining the MLP model </h4>"
      ]
    },
    {
      "cell_type": "markdown",
      "metadata": {
        "id": "D5jo1uktkCSU"
      },
      "source": [
        "To tune the MLP model, we decided to do some subsets of experiments one after the other instead of using a grid search for example. This is because tuning all the parameters take time, we can better decide to stop rapidly a test when we see that this will not work better than a previous experiments. For clarity we did not let all the tests made. We displayed the loss, the accuracy on training and testing sets as well as the f1_score after some iterations of the MLP classifier to make the comparisons.  We based mostly on the f1_score.\n",
        "\n",
        "We iterate on the classifier manually setting max_iter to 1 and warm_start to True in a way that we can print the f1_score and other accuracy tests and stop when we think this model is worse than a previous one.\n",
        "Reference : https://scikit-learn.org/stable/modules/generated/sklearn.neural_network.MLPClassifier.html\n",
        "\n",
        "We tuned the parameters in this order :\n",
        "* The <b> solver </b> : \"adam\" (ADAptive Moment) is surely the best parameters because it handles better large data. The tests confirmed it.\n",
        "* The <b> learning rate </b> : for a learning rate superior to 0.01 the loss can fluctuate and rise rapidly instead of decreasing. A learning rate of 0.0001 looks good but slow a lot the training. We found that a learning rate of 0.0005 works well.\n",
        "* The <b> activation function </b> : the 'relu' (Rectified Linear Unit) allows the model to converge much more rapidly.\n",
        "* The <b> hidden layer size </b> : lot of tests give similar results, we tried with maximum 2 hidden layers. The loss decreases more rapidly when there are an important number of neurons (e.g 100 neurons in one hidden layer). With less neurons it still improve similarly but more slowly. Every time, we can see that there is overfitting. Besides, sometimes while the accuracy on training improve, the accuracy on testing as well as the f1-score decrease. We tried also with few neurons (e.g 30 neurons in one hidden layer) to see if reducing it could help for this overfitting but it does not. At the end we found that both models {2 hidden layers : 60 and 40 neurons} and {1 hidden layer : 100 neurons} give similar results. \n",
        "> Adding more layers is useful to compute more complex features, going deep seems to be better if the data is very unstructed like for images.\n",
        "\n",
        "In our case, we got a best f1-score when using 100 neurons in one hidden layer.\n",
        "\n",
        "We didn't succeed in solving the overfitting problem, we would need more samples for each class. Maybe we should have make more data augmentation before the under-sampling to have more samples for each classes."
      ]
    },
    {
      "cell_type": "markdown",
      "metadata": {
        "id": "LSpUCfGdkCSU"
      },
      "source": [
        "We splitted the training into training and validation set, still using stratify even if our dataset is balanced but because we do not have a huge number of samples with regard to our number of classes."
      ]
    },
    {
      "cell_type": "code",
      "metadata": {
        "id": "0nHhIkGMkCSW"
      },
      "source": [
        "# Split the train and the validation set for the fitting\n",
        "X_train, X_val, Y_train, Y_val = model_selection.train_test_split(x_train, y_train, test_size = 0.1, random_state=7, stratify=y_train)"
      ],
      "execution_count": null,
      "outputs": []
    },
    {
      "cell_type": "code",
      "metadata": {
        "id": "mVBAH-hnkCSb"
      },
      "source": [
        "mlp = MLPClassifier(solver='adam',hidden_layer_sizes=(100), random_state=1, max_iter=1, activation='relu', \n",
        "                    learning_rate_init=0.0005, verbose=False, warm_start=True)"
      ],
      "execution_count": null,
      "outputs": []
    },
    {
      "cell_type": "code",
      "metadata": {
        "id": "PXp9ozgjkCSe",
        "outputId": "f952217c-fc9b-4694-90d8-748dc3fc8552"
      },
      "source": [
        "start = time()\n",
        "previous_f1 = 0\n",
        "count = 0 #number of times f1_score decrease\n",
        "for i in range(500):\n",
        "    mlp.fit(X_train, Y_train)\n",
        "    y_pred = mlp.predict(X_val)\n",
        "    f1_score = metrics.f1_score(Y_val, y_pred, average='macro')\n",
        "    if f1_score-previous_f1<0:\n",
        "        count+=1\n",
        "        if count==5:\n",
        "            print(\"\\nStopping at iteration {} - loss {} - time {}\".format(mlp.n_iter_, mlp.loss_, time()-start))\n",
        "            print(\"Training set score: %f\" % mlp.score(X_train, Y_train))\n",
        "            print(\"Validation set score: %f\" % mlp.score(X_val, Y_val))\n",
        "            print(\"F1_score (average : macro) :\", f1_score)\n",
        "            break\n",
        "    else:\n",
        "        count=0\n",
        "    previous_f1=f1_score\n",
        "    if i%50==0:\n",
        "        print(\"\\nIteration {} - loss {} - time {}\".format(mlp.n_iter_, mlp.loss_, time()-start))\n",
        "        print(\"Training set score: %f\" % mlp.score(X_train, Y_train))\n",
        "        print(\"Validation set score: %f\" % mlp.score(X_val, Y_val))\n",
        "        print(\"F1_score (average : macro) :\", f1_score)"
      ],
      "execution_count": null,
      "outputs": [
        {
          "output_type": "stream",
          "text": [
            "\n",
            "Iteration 6 - loss 2.689611473128419 - time 6.72345495223999\n",
            "Training set score: 0.223030\n",
            "Validation set score: 0.186376\n",
            "F1_score (average : macro) : 0.2715273912621664\n",
            "\n",
            "Iteration 56 - loss 1.1636112032418786 - time 347.75076270103455\n",
            "Training set score: 0.599935\n",
            "Validation set score: 0.320144\n",
            "F1_score (average : macro) : 0.4367734948167681\n",
            "\n",
            "Stopping at iteration 72 - loss 0.9833356892365114 - time 458.34673619270325\n",
            "Training set score: 0.637386\n",
            "Validation set score: 0.321942\n",
            "F1_score (average : macro) : 0.43650905892319913\n"
          ],
          "name": "stdout"
        }
      ]
    },
    {
      "cell_type": "markdown",
      "metadata": {
        "id": "8mPx6QGakCSg"
      },
      "source": [
        "The training accuracy is not to its possible maximum (we could have easily 99 of accuracy) because we noted that a point the accuracy on the validation decreases while the training accuracy increases. "
      ]
    },
    {
      "cell_type": "code",
      "metadata": {
        "id": "Cm-E1qCUkCSh",
        "outputId": "80f643d4-9613-4d9e-9e80-1058dc7326e0"
      },
      "source": [
        "#Results on testing set\n",
        "y_pred = mlp.predict(x_test)\n",
        "f1_score = metrics.f1_score(y_test, y_pred, average='macro')\n",
        "print(\"\\nTesting set score: %f\" % mlp.score(x_test, y_test))\n",
        "print(\"Test F1_score (average : macro) :\", f1_score)"
      ],
      "execution_count": null,
      "outputs": [
        {
          "output_type": "stream",
          "text": [
            "\n",
            "Testing set score: 0.237119\n",
            "Test F1_score (average : macro) : 0.388457604262404\n"
          ],
          "name": "stdout"
        }
      ]
    },
    {
      "cell_type": "markdown",
      "metadata": {
        "id": "W9y10TnXkCSi"
      },
      "source": [
        "<h4> CNN </h4>"
      ]
    },
    {
      "cell_type": "markdown",
      "metadata": {
        "id": "JqZaBkndkCSj"
      },
      "source": [
        "Based on : https://www.kaggle.com/yassineghouzam/introduction-to-cnn-keras-0-997-top-6\n",
        "\n",
        "For this model, we kept most of the configuration found in a kernel on kaggle, which we will see give already better results than the MLP classifier. We tried to modify some parameters as well as adding some layers (batch normalization layers) but did not have the time to tune it perfectly or trying several architectures.\n",
        "\n",
        "There are several architectures that we could have tried like the LeNet5 model mentioned in this article : https://medium.com/datadriveninvestor/five-powerful-cnn-architectures-b939c9ddd57b\n",
        "\n",
        "This CNN is built with keras API (Tensorflow backend). \n",
        "For the architecture, we modified what was mandatory to train the CNN on our data : the input and output shapes for example. Furthermore, we added some batch normalization layers as we saw on some articles that it could improve the results. We did not do data augmentation as in the kernel because we already did that manually before. We could have do all the data augmentation part directly before fitting the CNN.\n",
        "\n",
        "Let us first describe the general architecture by quoting the kaggle's kernel, explain what parameters we could have changed and explain what we added.\n",
        "\n",
        "<b> Structure of the CNN </b> \n",
        "* <b> A convolutional layer </b>\n",
        "> The first is the convolutional (Conv2D) layer. It is like a set of learnable filters. I choosed to set 32 filters for the two firsts conv2D layers and 64 filters for the two last ones. Each filter transforms a part of the image (defined by the kernel size) using the kernel filter. The kernel filter matrix is applied on the whole image. Filters can be seen as a transformation of the image.\n",
        "> The CNN can isolate features that are useful everywhere from these transformed images (feature maps).\n",
        "\n",
        "We could have tried to see how removing or adding conv2D layers modify the score of the model. Similarly, the number of filters and the kernel size could be tuned as there may be less/more features to extract from these images.\n",
        "\n",
        "* <b> A pooling layer </b>\n",
        "> The second important layer in CNN is the pooling (MaxPool2D) layer. This layer simply acts as a downsampling filter. It looks at the 2 neighboring pixels and picks the maximal value. These are used to reduce computational cost, and to some extent also reduce overfitting. We have to choose the pooling size (i.e the area size pooled each time). The more the pooling dimension is high, the more the downsampling is important.\n",
        "> Combining convolutional and pooling layers, CNN are able to combine local features and learn more global features of the image.\n",
        "\n",
        "As we noticed a strong overfitting in our MLP, the pooling size could be improved to solve this issue. This is another parameter to tune.\n",
        "\n",
        "* <b> Dropout </b> a regularization method \n",
        "> Dropout is a regularization method, where a proportion of nodes in the layer are randomly ignored (setting their weights to zero) for each training sample. This drops randomly a propotion of the network and forces the network to learn features in a distributed way. This technique also improves generalization and reduces the overfitting.\n",
        "\n",
        "Similarly, the proportion of neurons we chose to drop could be tuned to solve the overfitting problem. As we added batch normalization layers, we can wonder if this dropout regularization is still needed.\n",
        "\n",
        "* <b> Batch Normalization layer </b> \n",
        "\n",
        "References : \n",
        "* [Using both Dropout and Batch normalization](https://www.quora.com/Should-I-use-a-dropout-layer-if-I-am-using-batch-normalization-in-neural-network-training)\n",
        "* [Using Batch normalization instead of dropout](https://towardsdatascience.com/dont-use-dropout-in-convolutional-networks-81486c823c16)\n",
        "* [Order of the layers](https://stackoverflow.com/questions/39691902/ordering-of-batch-normalization-and-dropout) and [after or before activation](https://stackoverflow.com/questions/34716454/where-do-i-call-the-batchnormalization-function-in-keras)\n",
        "    \n",
        "We found that using a batch normalization layer before or after activation function in Conv2D or Dense layers improve the results. Some says that it should be used instead of dropout as a regularization but most of the time they are both used together in order to improve the results as well as preventing overfitting. We could have tried to see if the dropout layers are still necessary or if indeed they just provide similar regularization.      \n",
        "There are a lot of debates about if one should use the Batch normalization layer before or after the activation function. We put it after but in all case it must be put before dropout to do well.\n",
        "    \n",
        "* <b> A flatten layer </b>\n",
        "> The Flatten layer is use to convert the final feature maps into a one single 1D vector. This flattening step is needed so that you can make use of fully connected layers after some convolutional/maxpool layers. It combines all the found local features of the previous convolutional layers.\n",
        "\n",
        "We need this layer between our conv2D and dense layers.\n",
        "\n",
        "* <b> The activation function </b> \n",
        "> 'relu' is the rectifier (activation function max(0,x). The rectifier activation function is used to add non linearity to the network.\n",
        "\n",
        "We could try different activation function, though we already saw that the 'relu' is an optimal function for our problem (for speed of convergence , making sure that we we will not receive values which are lower than 0...). \n",
        "\n",
        "* <b> The Dense layers </b> \n",
        "> In the end I used the features in two fully-connected (Dense) layers which is just an artificial neural networks (ANN) classifier. In the last layer(Dense(37,activation=\"softmax\")) the net outputs distribution of probability of each class.\n",
        "\n",
        "We could see how removing/adding dense layers and also modifying the number of units/neurons in each one improve the model. Here, we used more neurons (256) in our hidden layer than in the MLP model (100), we did not looked at how it impacts the CNN results but it sure does.\n",
        "\n",
        "We kept the final activation ‘softmax’ because it makes the output sum up to 1 so it can be interpreted as probabilities. The model will then make its prediction based on which option has the highest probability."
      ]
    },
    {
      "cell_type": "code",
      "metadata": {
        "id": "VOSA27BskCSj"
      },
      "source": [
        "#the inputs are matrices\n",
        "X_train = x_train.reshape(-1,64,48,1) #1 channel B&W\n",
        "X_test = x_test.reshape(-1,64,48,1) #1 channel B&W\n",
        "# Split the train and the validation set for the fitting\n",
        "X_train, X_val, Y_train, Y_val = model_selection.train_test_split(X_train, y_train, test_size = 0.1, random_state=7)"
      ],
      "execution_count": null,
      "outputs": []
    },
    {
      "cell_type": "code",
      "metadata": {
        "id": "plZlEqNWkCSl"
      },
      "source": [
        "model = Sequential()\n",
        "\n",
        "model.add(Conv2D(filters = 32, kernel_size = (5,5),padding = 'Same', \n",
        "                 activation ='relu', input_shape = (64,48,1)))\n",
        "model.add(BatchNormalization())\n",
        "model.add(Conv2D(filters = 32, kernel_size = (5,5),padding = 'Same', \n",
        "                 activation ='relu'))\n",
        "model.add(BatchNormalization())\n",
        "model.add(MaxPool2D(pool_size=(2,2)))\n",
        "model.add(Dropout(0.25))\n",
        "\n",
        "\n",
        "model.add(Conv2D(filters = 64, kernel_size = (3,3),padding = 'Same', \n",
        "                 activation ='relu'))\n",
        "model.add(BatchNormalization())\n",
        "model.add(Conv2D(filters = 64, kernel_size = (3,3),padding = 'Same', \n",
        "                 activation ='relu'))\n",
        "model.add(BatchNormalization())\n",
        "model.add(MaxPool2D(pool_size=(2,2), strides=(2,2)))\n",
        "\n",
        "\n",
        "\n",
        "model.add(Flatten())\n",
        "model.add(Dense(256, activation = \"relu\"))\n",
        "model.add(BatchNormalization())\n",
        "model.add(Dropout(0.5))\n",
        "model.add(Dense(37, activation = \"softmax\"))"
      ],
      "execution_count": null,
      "outputs": []
    },
    {
      "cell_type": "markdown",
      "metadata": {
        "id": "zOQujS_pkCSn"
      },
      "source": [
        "<b> Optimizer </b>\n",
        "\n",
        "> Once our layers are added to the model, we need to set up a score function, a loss function and an optimisation algorithm.\n",
        "\n",
        "> We use a specific form for categorical classifications (>2 classes) called the \"categorical_crossentropy\".\n",
        "\n",
        "We also kept the same score function \"categorical_crossentropy\" as it is the most common choice for classification. We use the ‘accuracy’ metric to see the accuracy score on the validation set when we train the model.\n",
        "\n",
        "> The most important function is the optimizer. This function will iteratively improve parameters (filters kernel values, weights and bias of neurons ...) in order to minimise the loss.\n",
        "\n",
        "Thanks to this optimizer we may not have to spend too much time tuning parameters to still have good results.\n",
        "\n",
        "> I choosed RMSprop (with default values), it is a very effective optimizer. The RMSProp update adjusts the Adagrad method in a very simple way in an attempt to reduce its aggressive, monotonically decreasing learning rate. We could also have used Stochastic Gradient Descent ('sgd') optimizer, but it is slower than RMSprop.\n",
        "\n"
      ]
    },
    {
      "cell_type": "code",
      "metadata": {
        "id": "oOwGTB_SkCSn"
      },
      "source": [
        "# Define the optimizer\n",
        "optimizer = RMSprop(lr=0.001, rho=0.9, epsilon=1e-08, decay=0.0)"
      ],
      "execution_count": null,
      "outputs": []
    },
    {
      "cell_type": "code",
      "metadata": {
        "id": "QjhamCgekCSq"
      },
      "source": [
        "# Compile the model\n",
        "model.compile(optimizer = optimizer , loss = \"categorical_crossentropy\", metrics=[\"accuracy\"])"
      ],
      "execution_count": null,
      "outputs": []
    },
    {
      "cell_type": "markdown",
      "metadata": {
        "id": "eFJeuFeckCSs"
      },
      "source": [
        "<b> Annealing method </b>\n",
        ">In order to make the optimizer converge faster and closest to the global minimum of the loss function, i used an annealing method of the learning rate (LR).\n",
        ">\n",
        ">The LR is the step by which the optimizer walks through the 'loss landscape'. The higher LR, the bigger are the steps and the quicker is the convergence. However the sampling is very poor with an high LR and the optimizer could probably fall into a local minima.\n",
        ">\n",
        ">Its better to have a decreasing learning rate during the training to reach efficiently the global minimum of the loss function.\n",
        ">\n",
        ">To keep the advantage of the fast computation time with a high LR, i decreased the LR dynamically every X steps (epochs) depending if it is necessary (when accuracy is not improved).\n",
        ">\n",
        ">With the ReduceLROnPlateau function from Keras.callbacks, i choose to reduce the LR by half if the accuracy is not improved after 3 epochs.\n",
        "\n",
        "We changed the 'patience' to 2 so that if after 2 epochs the accuracy does not improve the LR will be reduced by half. We did that because we saw that a very low LR gave better results (and/or avoided a fluctuation) on the MLP classifier."
      ]
    },
    {
      "cell_type": "code",
      "metadata": {
        "id": "a9-yf8lXkCSt"
      },
      "source": [
        "# Set a learning rate annealer\n",
        "learning_rate_reduction = ReduceLROnPlateau(monitor='val_acc', patience=2, verbose=1, factor=0.5, min_lr=0.00001)"
      ],
      "execution_count": null,
      "outputs": []
    },
    {
      "cell_type": "markdown",
      "metadata": {
        "id": "_3FjMLLFkCSu"
      },
      "source": [
        "<b> Fitting the model </b>\n",
        "\n",
        "The number of batch and the number of iterations/epochs could be played with for a trade-off between speed and accuracy."
      ]
    },
    {
      "cell_type": "code",
      "metadata": {
        "id": "K6ykQfUpkCSv",
        "outputId": "2131b472-6164-4ec4-9706-f72684c12ce2"
      },
      "source": [
        "history = model.fit(X_train, Y_train, batch_size = 100, epochs = 15, \n",
        "                    validation_data = (X_val, Y_val), verbose = 2, callbacks=[learning_rate_reduction])"
      ],
      "execution_count": null,
      "outputs": [
        {
          "output_type": "stream",
          "text": [
            "Train on 40026 samples, validate on 4448 samples\n",
            "Epoch 1/15\n",
            " - 590s - loss: 2.1778 - acc: 0.3774 - val_loss: 2.1277 - val_acc: 0.4148\n",
            "Epoch 2/15\n",
            " - 589s - loss: 1.4669 - acc: 0.5562 - val_loss: 1.7667 - val_acc: 0.4978\n",
            "Epoch 3/15\n",
            " - 590s - loss: 1.1950 - acc: 0.6340 - val_loss: 1.3025 - val_acc: 0.6167\n",
            "Epoch 4/15\n",
            " - 589s - loss: 1.0158 - acc: 0.6860 - val_loss: 1.1360 - val_acc: 0.6509\n",
            "Epoch 5/15\n",
            " - 655s - loss: 0.8803 - acc: 0.7278 - val_loss: 1.2255 - val_acc: 0.6576\n",
            "Epoch 6/15\n",
            " - 697s - loss: 0.7710 - acc: 0.7585 - val_loss: 1.0742 - val_acc: 0.6927\n",
            "Epoch 7/15\n",
            " - 711s - loss: 0.6749 - acc: 0.7831 - val_loss: 1.5491 - val_acc: 0.5845\n",
            "Epoch 8/15\n",
            " - 710s - loss: 0.5898 - acc: 0.8095 - val_loss: 1.3955 - val_acc: 0.6246\n",
            "\n",
            "Epoch 00008: ReduceLROnPlateau reducing learning rate to 0.0005000000237487257.\n",
            "Epoch 9/15\n",
            " - 698s - loss: 0.4208 - acc: 0.8649 - val_loss: 0.9701 - val_acc: 0.7217\n",
            "Epoch 10/15\n",
            " - 698s - loss: 0.3605 - acc: 0.8843 - val_loss: 1.0349 - val_acc: 0.7140\n",
            "Epoch 11/15\n",
            " - 699s - loss: 0.3155 - acc: 0.8982 - val_loss: 0.9626 - val_acc: 0.7385\n",
            "Epoch 12/15\n",
            " - 700s - loss: 0.2792 - acc: 0.9087 - val_loss: 1.0201 - val_acc: 0.7286\n",
            "Epoch 13/15\n",
            " - 699s - loss: 0.2536 - acc: 0.9178 - val_loss: 1.0370 - val_acc: 0.7325\n",
            "\n",
            "Epoch 00013: ReduceLROnPlateau reducing learning rate to 0.0002500000118743628.\n",
            "Epoch 14/15\n",
            " - 701s - loss: 0.1994 - acc: 0.9363 - val_loss: 0.9773 - val_acc: 0.7475\n",
            "Epoch 15/15\n",
            " - 703s - loss: 0.1768 - acc: 0.9443 - val_loss: 1.0068 - val_acc: 0.7406\n"
          ],
          "name": "stdout"
        }
      ]
    },
    {
      "cell_type": "markdown",
      "metadata": {
        "id": "9yq8w3NYkCSw"
      },
      "source": [
        "<b> Loss and accuracy curves </b>"
      ]
    },
    {
      "cell_type": "code",
      "metadata": {
        "id": "joc26isfkCSx",
        "outputId": "ca76ae6c-7ac9-424b-bc36-42e928ba42dd"
      },
      "source": [
        "# Plot the loss and accuracy curves for training and validation \n",
        "fig, ax = plt.subplots(2,1)\n",
        "ax[0].plot(history.history['loss'], color='b', label=\"Training loss\")\n",
        "ax[0].plot(history.history['val_loss'], color='r', label=\"validation loss\",axes =ax[0])\n",
        "legend = ax[0].legend(loc='best', shadow=True)\n",
        "\n",
        "ax[1].plot(history.history['acc'], color='b', label=\"Training accuracy\")\n",
        "ax[1].plot(history.history['val_acc'], color='r',label=\"Validation accuracy\")\n",
        "legend = ax[1].legend(loc='best', shadow=True)"
      ],
      "execution_count": null,
      "outputs": [
        {
          "output_type": "display_data",
          "data": {
            "image/png": "[encoded data removed]",
            "text/plain": [
              "<Figure size 432x288 with 2 Axes>"
            ]
          },
          "metadata": {
            "tags": []
          }
        }
      ]
    },
    {
      "cell_type": "markdown",
      "metadata": {
        "id": "RoRZsRDNkCSy"
      },
      "source": [
        "We notice fluctuation for the validation accuracy, fortunately the learning rate annealer defined with ReduceLROnPlateau allowed the model to reduce the learning rate and therefore to keep improving.  \n",
        "There is also overfitting with the validation accuracy stabilizing around 0.74 while the training accuracy keeps rising. \n",
        "\n",
        "To compare with the MLP classifier, we can already observe that the validation accuracy (both being 10% of the training set) reached a better level. This is in part due to the fact that we adapted the learning rate during the training in the CNN model and not in the MLP."
      ]
    },
    {
      "cell_type": "markdown",
      "metadata": {
        "id": "bMJXzIRCkCSy"
      },
      "source": [
        "<b> Results </b>"
      ]
    },
    {
      "cell_type": "code",
      "metadata": {
        "id": "6n-kunvvkCSy",
        "outputId": "67f7d608-b797-42f1-d113-1eeda3147d21"
      },
      "source": [
        "test_score = model.evaluate(X_test,y_test)[1]\n",
        "print(\"\\nTesting set score: %f\" % test_score) "
      ],
      "execution_count": null,
      "outputs": [
        {
          "output_type": "stream",
          "text": [
            "\n",
            "Testing set score: 0.478916\n"
          ],
          "name": "stdout"
        }
      ]
    },
    {
      "cell_type": "markdown",
      "metadata": {
        "id": "k9hQ_JcQkCS0"
      },
      "source": [
        "We had a test score of 0.24 for the MLP. The CNN's accuracy on the test set is thus already way better. "
      ]
    },
    {
      "cell_type": "code",
      "metadata": {
        "id": "acq6rWNRkCS0",
        "outputId": "108c3bec-3c5c-48f5-a346-feed021cd9ec"
      },
      "source": [
        "y_pred = model.predict(X_test)\n",
        "y_mod = np.zeros_like(y_pred)  \n",
        "y_mod[np.arange(len(y_pred)), y_pred.argmax(1)] = 1  #put the maximum probability to 1 and the others to 0\n",
        "f1_score = metrics.f1_score(y_test, y_mod, average='macro')\n",
        "print(\"F1_score (average : macro) :\", f1_score)"
      ],
      "execution_count": null,
      "outputs": [
        {
          "output_type": "stream",
          "text": [
            "F1_score (average : macro) : 0.5472343078858358\n"
          ],
          "name": "stdout"
        }
      ]
    },
    {
      "cell_type": "markdown",
      "metadata": {
        "id": "1YIwC9-zkCS1"
      },
      "source": [
        "We have also a better F1_score with the CNN than with the MLP where we  (<b> f1_score 0.39</b>) "
      ]
    },
    {
      "cell_type": "markdown",
      "metadata": {
        "id": "KPKPvhTCkCS1"
      },
      "source": [
        "<div class=\"\">\n",
        "    <h3>5. Model Evaluation</h3>\n",
        "</div>"
      ]
    },
    {
      "cell_type": "markdown",
      "metadata": {
        "id": "wMCtyF84kCS1"
      },
      "source": [
        "Throughout this notebook, we focused on the classification for the level 2. We could try to see how it would do with level 1."
      ]
    },
    {
      "cell_type": "markdown",
      "metadata": {
        "id": "j7GW4gVgkCS2"
      },
      "source": [
        "<h4> F1 measure </h4>"
      ]
    },
    {
      "cell_type": "markdown",
      "metadata": {
        "id": "NJXo18IWkCS2"
      },
      "source": [
        "Reference : https://www.quora.com/What-are-some-good-error-metrics-for-multi-class-classification-when-you-have-many-objects-to-classify\n",
        "\n",
        ">A micro-average is generated in a traditional manner: pool all your results into one big contingency table and calculate the F-score from that.\n",
        "\n",
        ">A macro-average, on the other hand, is obtained by calculating the F-score for each class, and then averaging those to get a single number.\n",
        "\n",
        ">Because the micro-average gives equal weight to each individual decision, large classes will dominate small ones. This makes it a measure of how effective your classifier is on the large classes in the collection.\n",
        "\n",
        ">On the other hand, macro-averaging gives equal weight to every class, and so will give you a sense of how effective you are on the small classes.\n"
      ]
    },
    {
      "cell_type": "markdown",
      "metadata": {
        "id": "YD1ZooWVkCS2"
      },
      "source": [
        "We used the F1 score to evaluate our model improvement. The macro-average gives the average of the F-score for each class, thus giving equal importance to every class, this way we are sure that the classifier works well on under-represented classes. Yet, as we balanced the data set to have the same amount of samples for each samples and as we use the stratify parameter when splitting the data set, we could think that this is not useful. \n",
        "\n",
        "It is hard to say what a good F1 score should be for our problem as our data set was really imbalanced. We must also remember that we may have similar data in the training and testing set as we did the splitting after the data augmentation part, therefore our score may be biased.\n",
        "\n",
        "<h4> Comparing the models </h4> \n",
        "\n",
        "Yet, we can still compare our two models and at the end we get a better F1_score with a CNN (<b> f1_score 0.55 </b>) than with a MLP (<b> f1_score 0.39</b>) and we did not even take the time to try many architectures for the CNN. Indeed, Keras offer a lot of options for the CNN in terms of layers (conv2D, pooling, batch normalizations, dropout...) as well as parameters (the optimizer, the callbacks methods...) and we did not test them all, therefore it would be possible to get an even more better results with more time spent on the model. The processing part (balancing the data set, data augmentation...) could also be improved to get a better F1_score.  \n",
        "\n",
        "We can therefore say that a CNN is more adequate to solve this problem (and more generally images classification problems) than a MLP classifier. It would have been interesting to compare the results of the CNN with the results from a classifier using the extracted features."
      ]
    },
    {
      "cell_type": "markdown",
      "metadata": {
        "id": "Cuk4bsZkkCS2"
      },
      "source": [
        "<div class=\"\">\n",
        "    <h2>Submission</h2>\n",
        "    <hr style=\"height:1px;border:none;color:#333;background-color:#333;\" />    \n",
        "</div>"
      ]
    },
    {
      "cell_type": "code",
      "metadata": {
        "id": "Os7hRW9jkCS3",
        "outputId": "5697b359-5e70-4fde-e0ac-b0730cdb0cd0"
      },
      "source": [
        "print(\"F1_score (average : macro) for the CNN model :\", f1_score)"
      ],
      "execution_count": null,
      "outputs": [
        {
          "output_type": "stream",
          "text": [
            "F1_score (average : macro) for the CNN model : 0.5472343078858358\n"
          ],
          "name": "stdout"
        }
      ]
    }
  ]
}